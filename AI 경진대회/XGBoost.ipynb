{
 "cells": [
  {
   "cell_type": "code",
   "execution_count": 33,
   "metadata": {},
   "outputs": [],
   "source": [
    "import pandas as pd\n",
    "import numpy as np"
   ]
  },
  {
   "cell_type": "code",
   "execution_count": 34,
   "metadata": {},
   "outputs": [],
   "source": [
    "df = pd.read_csv('train.csv', encoding='utf-8-sig')\n",
    "df_test = pd.read_csv('test.csv')"
   ]
  },
  {
   "cell_type": "code",
   "execution_count": 35,
   "metadata": {},
   "outputs": [
    {
     "data": {
      "text/plain": [
       "0       A\n",
       "1       A\n",
       "2    FCN1\n",
       "Name: 관세율구분코드, dtype: object"
      ]
     },
     "execution_count": 35,
     "metadata": {},
     "output_type": "execute_result"
    }
   ],
   "source": [
    "df['관세율구분코드'].head(3)"
   ]
  },
  {
   "cell_type": "code",
   "execution_count": 36,
   "metadata": {},
   "outputs": [],
   "source": [
    "#신고일자\n",
    "df['신고일자'] = pd.to_datetime(df['신고일자'])\n",
    "df.insert(1, '신고일자_월', df['신고일자'].dt.month)\n",
    "df = df.drop('신고일자', axis=1)"
   ]
  },
  {
   "cell_type": "code",
   "execution_count": 37,
   "metadata": {},
   "outputs": [
    {
     "data": {
      "text/plain": [
       "array(['A', 'C', 'C3', 'CIT', 'CIT1', 'CIT2', 'E1', 'F', 'FAS1', 'FAS4',\n",
       "       'FAU1', 'FCA1', 'FCL1', 'FCN1', 'FCN2', 'FCN6', 'FCO1', 'FEF1',\n",
       "       'FEU1', 'FIN1', 'FNZ1', 'FPE1', 'FPE2', 'FSG1', 'FTR1', 'FUS1',\n",
       "       'FUS2', 'FUS5', 'FUS6', 'FVN1', 'L', 'P1', 'P3', 'R', 'W1', 'W2'],\n",
       "      dtype=object)"
      ]
     },
     "execution_count": 37,
     "metadata": {},
     "output_type": "execute_result"
    }
   ],
   "source": [
    "#관세율구분코드\n",
    "a = df['관세율구분코드'].unique()\n",
    "a.sort()\n",
    "a\n",
    "#총 35종류"
   ]
  },
  {
   "cell_type": "code",
   "execution_count": 30,
   "metadata": {},
   "outputs": [],
   "source": [
    "#A, C, CIT, E, F, FAS, FAU, FCA, FCL, FCN, FEF, FIN, FNZ, FPE,\n",
    "#FSG, FTR, FUS, FVN, L, P, R, W\n",
    "#22개"
   ]
  },
  {
   "cell_type": "code",
   "execution_count": 31,
   "metadata": {},
   "outputs": [],
   "source": [
    "mapping = {'A':'A', 'C':'C', 'C3':'C', 'CIT':'CIT', 'CIT1':'CIT',\n",
    "          'E1':'E', 'F':'F', 'FAS1':'FAS', 'FAU1':'FAU', 'FCA1':'FCA1',\n",
    "          'FCL1':'FCL', 'FCN1':'FCN', 'FCN2':'FCN', 'FCN4':'FCN',\n",
    "          'FCN6':'FCN', 'FEF1':'FEF', 'FEU1':'FEU', 'FEU6':'FEU',\n",
    "          'FIN1':'FIN', 'FNZ1':'FNZ', 'FPE1':'FPE',  'FSG1':'FSG',\n",
    "          'FTR1':'FTR', 'FUS1':'FUS', 'FUS2':'FUS', 'FUS5':'FUS',\n",
    "          'FUS6':'FUS', 'FVN1':'FVN', 'FVN2':'FVN', 'L':'L', 'P1':'P',\n",
    "          'P3':'P', 'R':'R', 'W1':'W', 'W2':'W'}"
   ]
  },
  {
   "cell_type": "code",
   "execution_count": 38,
   "metadata": {},
   "outputs": [
    {
     "data": {
      "text/plain": [
       "85808      C\n",
       "49473      A\n",
       "66513      A\n",
       "24657      A\n",
       "22750    FCN\n",
       "33826      C\n",
       "34912      C\n",
       "49694      A\n",
       "67145      A\n",
       "11339      A\n",
       "Name: 관세율구분코드, dtype: object"
      ]
     },
     "execution_count": 38,
     "metadata": {},
     "output_type": "execute_result"
    }
   ],
   "source": [
    "df['관세율구분코드'] = df['관세율구분코드'].map(mapping)\n",
    "df['관세율구분코드'].sample(10)"
   ]
  },
  {
   "cell_type": "code",
   "execution_count": 39,
   "metadata": {},
   "outputs": [
    {
     "data": {
      "text/plain": [
       "array(['A', 'FCN', 'C', 'FEU', 'CIT', 'FVN', 'FEF', 'FUS', 'F', 'FAU',\n",
       "       'E', 'L', 'W', 'FCA1', 'FAS', 'P', nan, 'FIN', 'FCL', 'FTR', 'FSG',\n",
       "       'R', 'FPE', 'FNZ'], dtype=object)"
      ]
     },
     "execution_count": 39,
     "metadata": {},
     "output_type": "execute_result"
    }
   ],
   "source": [
    "df['관세율구분코드'].unique()"
   ]
  },
  {
   "cell_type": "code",
   "execution_count": 44,
   "metadata": {},
   "outputs": [],
   "source": [
    " # 항목 삭제\n",
    "df = df.drop(['신고인부호', '특송업체부호','수입자부호','해외거래처부호'], axis=1)"
   ]
  },
  {
   "cell_type": "code",
   "execution_count": 42,
   "metadata": {},
   "outputs": [],
   "source": [
    "# label encoding\n",
    "from sklearn.preprocessing import LabelEncoder\n",
    "\n",
    "le = LabelEncoder()\n",
    "label = df['수입통관계획코드']\n",
    "le.fit(label)\n",
    "label_encoded = le.transform(label)\n",
    "l_e_df = pd.DataFrame(label_encoded, columns=['label_encoded'])\n",
    "df['수입통관계획코드'] = l_e_df\n",
    "\n",
    "label = df['수입신고구분코드']\n",
    "le.fit(label)\n",
    "label_encoded = le.transform(label)\n",
    "l_e_df = pd.DataFrame(label_encoded, columns=['label_encoded'])\n",
    "df['수입신고구분코드'] = l_e_df\n",
    "\n",
    "le = LabelEncoder()\n",
    "label = df['원산지국가코드']\n",
    "le.fit(label)\n",
    "label_encoded = le.transform(label)\n",
    "l_e_df = pd.DataFrame(label_encoded, columns=['label_encoded'])\n",
    "df['원산지국가코드'] = l_e_df\n",
    "\n",
    "le = LabelEncoder()\n",
    "label = df['적출국가코드']\n",
    "le.fit(label)\n",
    "label_encoded = le.transform(label)\n",
    "l_e_df = pd.DataFrame(label_encoded, columns=['label_encoded'])\n",
    "df['적출국가코드'] = l_e_df\n",
    "\n",
    " # 항목 삭제\n",
    "df = df.drop(['관세율구분코드'], axis=1)"
   ]
  },
  {
   "cell_type": "code",
   "execution_count": 49,
   "metadata": {},
   "outputs": [
    {
     "data": {
      "text/html": [
       "<div>\n",
       "<style scoped>\n",
       "    .dataframe tbody tr th:only-of-type {\n",
       "        vertical-align: middle;\n",
       "    }\n",
       "\n",
       "    .dataframe tbody tr th {\n",
       "        vertical-align: top;\n",
       "    }\n",
       "\n",
       "    .dataframe thead th {\n",
       "        text-align: right;\n",
       "    }\n",
       "</style>\n",
       "<table border=\"1\" class=\"dataframe\">\n",
       "  <thead>\n",
       "    <tr style=\"text-align: right;\">\n",
       "      <th></th>\n",
       "      <th>신고번호</th>\n",
       "      <th>신고일자_월</th>\n",
       "      <th>통관지세관부호</th>\n",
       "      <th>수입통관계획코드</th>\n",
       "      <th>수입신고구분코드</th>\n",
       "      <th>수입거래구분코드</th>\n",
       "      <th>수입종류코드</th>\n",
       "      <th>징수형태코드</th>\n",
       "      <th>신고중량(KG)</th>\n",
       "      <th>과세가격원화금액</th>\n",
       "      <th>운송수단유형코드</th>\n",
       "      <th>반입보세구역부호</th>\n",
       "      <th>HS10단위부호</th>\n",
       "      <th>적출국가코드</th>\n",
       "      <th>원산지국가코드</th>\n",
       "      <th>관세율</th>\n",
       "      <th>우범여부</th>\n",
       "      <th>핵심적발</th>\n",
       "    </tr>\n",
       "  </thead>\n",
       "  <tbody>\n",
       "    <tr>\n",
       "      <th>53884</th>\n",
       "      <td>337029</td>\n",
       "      <td>7</td>\n",
       "      <td>30</td>\n",
       "      <td>1</td>\n",
       "      <td>3</td>\n",
       "      <td>15</td>\n",
       "      <td>21</td>\n",
       "      <td>11</td>\n",
       "      <td>32591.3</td>\n",
       "      <td>1.674020e+11</td>\n",
       "      <td>10</td>\n",
       "      <td>1611191</td>\n",
       "      <td>9032101020</td>\n",
       "      <td>81</td>\n",
       "      <td>95</td>\n",
       "      <td>0.0</td>\n",
       "      <td>1</td>\n",
       "      <td>2</td>\n",
       "    </tr>\n",
       "    <tr>\n",
       "      <th>1303</th>\n",
       "      <td>449550</td>\n",
       "      <td>1</td>\n",
       "      <td>13</td>\n",
       "      <td>2</td>\n",
       "      <td>1</td>\n",
       "      <td>11</td>\n",
       "      <td>21</td>\n",
       "      <td>11</td>\n",
       "      <td>2072.4</td>\n",
       "      <td>6.496142e+05</td>\n",
       "      <td>40</td>\n",
       "      <td>4077010</td>\n",
       "      <td>9111800000</td>\n",
       "      <td>15</td>\n",
       "      <td>19</td>\n",
       "      <td>8.0</td>\n",
       "      <td>0</td>\n",
       "      <td>0</td>\n",
       "    </tr>\n",
       "    <tr>\n",
       "      <th>2881</th>\n",
       "      <td>181038</td>\n",
       "      <td>1</td>\n",
       "      <td>40</td>\n",
       "      <td>1</td>\n",
       "      <td>1</td>\n",
       "      <td>15</td>\n",
       "      <td>21</td>\n",
       "      <td>11</td>\n",
       "      <td>5326.3</td>\n",
       "      <td>3.657534e+04</td>\n",
       "      <td>10</td>\n",
       "      <td>2086001</td>\n",
       "      <td>2106909099</td>\n",
       "      <td>15</td>\n",
       "      <td>19</td>\n",
       "      <td>3.2</td>\n",
       "      <td>0</td>\n",
       "      <td>0</td>\n",
       "    </tr>\n",
       "  </tbody>\n",
       "</table>\n",
       "</div>"
      ],
      "text/plain": [
       "         신고번호  신고일자_월  통관지세관부호  수입통관계획코드  수입신고구분코드  수입거래구분코드  수입종류코드  징수형태코드  \\\n",
       "53884  337029       7       30         1         3        15      21      11   \n",
       "1303   449550       1       13         2         1        11      21      11   \n",
       "2881   181038       1       40         1         1        15      21      11   \n",
       "\n",
       "       신고중량(KG)      과세가격원화금액  운송수단유형코드  반입보세구역부호    HS10단위부호  적출국가코드  \\\n",
       "53884   32591.3  1.674020e+11        10   1611191  9032101020      81   \n",
       "1303     2072.4  6.496142e+05        40   4077010  9111800000      15   \n",
       "2881     5326.3  3.657534e+04        10   2086001  2106909099      15   \n",
       "\n",
       "       원산지국가코드  관세율  우범여부  핵심적발  \n",
       "53884       95  0.0     1     2  \n",
       "1303        19  8.0     0     0  \n",
       "2881        19  3.2     0     0  "
      ]
     },
     "execution_count": 49,
     "metadata": {},
     "output_type": "execute_result"
    }
   ],
   "source": [
    "df.sample(3)"
   ]
  },
  {
   "cell_type": "code",
   "execution_count": 53,
   "metadata": {},
   "outputs": [],
   "source": [
    "c=['신고번호','신고일자_월','통관지세관부호','수입통관계획코드', '수입신고구분코드',\n",
    "   '수입거래구분코드','수입종류코드','징수형태코드','신고중량(KG)','과세가격원화금액',\n",
    "   '운송수단유형코드','반입보세구역부호','HS10단위부호','적출국가코드',\n",
    "   '원산지국가코드','관세율','우범여부','핵심적발']"
   ]
  },
  {
   "cell_type": "code",
   "execution_count": 54,
   "metadata": {},
   "outputs": [],
   "source": [
    "# 표준화 \n",
    "from sklearn.preprocessing import StandardScaler\n",
    "\n",
    "scaler = StandardScaler() \n",
    "scaler.fit(df)\n",
    "df_scaled = scaler.transform(df)\n",
    "\n",
    "df_scaled = pd.DataFrame(data=df_scaled,columns=c)"
   ]
  },
  {
   "cell_type": "code",
   "execution_count": 55,
   "metadata": {},
   "outputs": [],
   "source": [
    "# 정규화\n",
    "from sklearn.preprocessing import MinMaxScaler\n",
    "\n",
    "scaler = MinMaxScaler() \n",
    "scaler.fit(df)\n",
    "df_scaled = scaler.transform(df)\n",
    "\n",
    "df_scaled = pd.DataFrame(data=df_scaled, columns=c)"
   ]
  },
  {
   "cell_type": "markdown",
   "metadata": {},
   "source": [
    "## XGBoost"
   ]
  },
  {
   "cell_type": "code",
   "execution_count": 56,
   "metadata": {},
   "outputs": [],
   "source": [
    "import pandas as pd\n",
    "import numpy as np\n",
    "import matplotlib.pyplot as plt\n",
    "import seaborn as sns\n",
    "from xgboost import plot_importance\n",
    "from xgboost import XGBClassifier\n",
    "from sklearn.datasets import load_breast_cancer\n",
    "from sklearn.model_selection import train_test_split, GridSearchCV\n",
    "from sklearn.metrics import accuracy_score, f1_score, precision_score, recall_score, roc_auc_score, confusion_matrix"
   ]
  },
  {
   "cell_type": "code",
   "execution_count": 60,
   "metadata": {},
   "outputs": [],
   "source": [
    "def metrics(y_test, pred):\n",
    "    accuracy = accuracy_score(y_test, pred)\n",
    "    precision = precision_score(y_test, pred)\n",
    "    recall = recall_score(y_test, pred)\n",
    "    f1 = f1_score(y_test, pred)\n",
    "    roc_score = roc_auc_score(y_test, pred)\n",
    "    print('정확도 : {0:.2f}, 정밀도 : {1:.2f}, 재현율 : {2:.2f}'.format(accuracy, precision, recall))\n",
    "    print('f1-score : {0:.2f}, auc : {1:.2f}'.format(f1, roc_score))"
   ]
  },
  {
   "cell_type": "code",
   "execution_count": 57,
   "metadata": {},
   "outputs": [],
   "source": [
    "c=['신고번호', '통관지세관부호', '수입통관계획코드', '수입신고구분코드',\n",
    "                                      '수입거래구분코드','수입종류코드','징수형태코드','신고중량(KG)','과세가격원화금액',\n",
    "                                      '운송수단유형코드','반입보세구역부호','HS10단위부호','적출국가코드',\n",
    "  '원산지국가코드','관세율구분코드', '관세율']"
   ]
  },
  {
   "cell_type": "code",
   "execution_count": 71,
   "metadata": {},
   "outputs": [
    {
     "name": "stdout",
     "output_type": "stream",
     "text": [
      "(71695, 16) (17924, 16)\n"
     ]
    }
   ],
   "source": [
    "# 우범여부\n",
    "X = np.array(pd.DataFrame(df_scaled, columns=c))\n",
    "Y_u = np.array(pd.DataFrame(df_scaled, columns=['우범여부']))\n",
    "Y_u = Y_u.astype('int')\n",
    "X_train, X_test, y_u_train, y_u_test = train_test_split(X, Y_u, test_size=0.2, random_state=11)\n",
    "print(X_train.shape, X_test.shape)"
   ]
  },
  {
   "cell_type": "code",
   "execution_count": 72,
   "metadata": {},
   "outputs": [
    {
     "name": "stdout",
     "output_type": "stream",
     "text": [
      "[19:02:56] WARNING: C:/Users/Administrator/workspace/xgboost-win64_release_1.4.0/src/learner.cc:1095: Starting in XGBoost 1.3.0, the default evaluation metric used with the objective 'binary:logistic' was changed from 'error' to 'logloss'. Explicitly set eval_metric if you'd like to restore the old behavior.\n"
     ]
    }
   ],
   "source": [
    "xgb = XGBClassifier(n_estimators=500, learning_rate = 0.1, max_depth = 4)\n",
    "xgb.fit(X_train, y_u_train)\n",
    "xgb_pred = xgb.predict(X_test)"
   ]
  },
  {
   "cell_type": "code",
   "execution_count": 73,
   "metadata": {},
   "outputs": [
    {
     "name": "stdout",
     "output_type": "stream",
     "text": [
      "[19:03:21] WARNING: C:/Users/Administrator/workspace/xgboost-win64_release_1.4.0/src/learner.cc:1095: Starting in XGBoost 1.3.0, the default evaluation metric used with the objective 'binary:logistic' was changed from 'error' to 'logloss'. Explicitly set eval_metric if you'd like to restore the old behavior.\n"
     ]
    }
   ],
   "source": [
    "df_xgb_u = xgb.fit(X_train, y_u_train)"
   ]
  },
  {
   "cell_type": "code",
   "execution_count": 74,
   "metadata": {},
   "outputs": [
    {
     "name": "stdout",
     "output_type": "stream",
     "text": [
      "정확도 : 0.79, 정밀도 : 0.55, 재현율 : 0.23\n",
      "f1-score : 0.32, auc : 0.59\n"
     ]
    }
   ],
   "source": [
    "metrics(y_u_test, xgb_pred)"
   ]
  },
  {
   "cell_type": "code",
   "execution_count": 75,
   "metadata": {},
   "outputs": [
    {
     "name": "stdout",
     "output_type": "stream",
     "text": [
      "(71695, 16) (17924, 16)\n"
     ]
    }
   ],
   "source": [
    "# 핵심적발\n",
    "Y_h = np.array(pd.DataFrame(df_scaled, columns=['핵심적발']))\n",
    "Y_h = Y_h.astype('int')\n",
    "X_train, X_test, y_h_train, y_h_test = train_test_split(X, Y_u, test_size=0.2, random_state=11)\n",
    "print(X_train.shape, X_test.shape)"
   ]
  },
  {
   "cell_type": "code",
   "execution_count": 76,
   "metadata": {},
   "outputs": [
    {
     "name": "stderr",
     "output_type": "stream",
     "text": [
      "C:\\Users\\82108\\anaconda3\\lib\\site-packages\\xgboost\\sklearn.py:1146: UserWarning: The use of label encoder in XGBClassifier is deprecated and will be removed in a future release. To remove this warning, do the following: 1) Pass option use_label_encoder=False when constructing XGBClassifier object; and 2) Encode your labels (y) as integers starting with 0, i.e. 0, 1, 2, ..., [num_class - 1].\n",
      "  warnings.warn(label_encoder_deprecation_msg, UserWarning)\n",
      "C:\\Users\\82108\\anaconda3\\lib\\site-packages\\sklearn\\utils\\validation.py:72: DataConversionWarning: A column-vector y was passed when a 1d array was expected. Please change the shape of y to (n_samples, ), for example using ravel().\n",
      "  return f(**kwargs)\n"
     ]
    },
    {
     "name": "stdout",
     "output_type": "stream",
     "text": [
      "[19:04:20] WARNING: C:/Users/Administrator/workspace/xgboost-win64_release_1.4.0/src/learner.cc:1095: Starting in XGBoost 1.3.0, the default evaluation metric used with the objective 'binary:logistic' was changed from 'error' to 'logloss'. Explicitly set eval_metric if you'd like to restore the old behavior.\n"
     ]
    }
   ],
   "source": [
    "xgb = XGBClassifier(n_estimators=500, learning_rate = 0.1, max_depth = 4)\n",
    "xgb.fit(X_train, y_h_train)\n",
    "xgb_pred = xgb.predict(X_test)"
   ]
  },
  {
   "cell_type": "code",
   "execution_count": 77,
   "metadata": {},
   "outputs": [
    {
     "name": "stdout",
     "output_type": "stream",
     "text": [
      "[19:04:43] WARNING: C:/Users/Administrator/workspace/xgboost-win64_release_1.4.0/src/learner.cc:1095: Starting in XGBoost 1.3.0, the default evaluation metric used with the objective 'binary:logistic' was changed from 'error' to 'logloss'. Explicitly set eval_metric if you'd like to restore the old behavior.\n"
     ]
    }
   ],
   "source": [
    "df_xgb_h = xgb.fit(X_train, y_h_train)"
   ]
  },
  {
   "cell_type": "code",
   "execution_count": 78,
   "metadata": {},
   "outputs": [
    {
     "name": "stdout",
     "output_type": "stream",
     "text": [
      "정확도 : 0.79, 정밀도 : 0.55, 재현율 : 0.23\n",
      "f1-score : 0.32, auc : 0.59\n"
     ]
    }
   ],
   "source": [
    "metrics(y_h_test, xgb_pred)"
   ]
  },
  {
   "cell_type": "code",
   "execution_count": 66,
   "metadata": {},
   "outputs": [],
   "source": [
    "# test\n",
    "t_df = pd.read_csv('test.csv')\n",
    "\n",
    "#신고일자, 해외거래처부호, 특송업체부호 삭제\n",
    "t_df = t_df.drop(['신고인부호', '특송업체부호','수입자부호','해외거래처부호'], axis=1)"
   ]
  },
  {
   "cell_type": "code",
   "execution_count": 67,
   "metadata": {},
   "outputs": [],
   "source": [
    "# label encoding\n",
    "from sklearn.preprocessing import LabelEncoder\n",
    "le = LabelEncoder()\n",
    "label = t_df['수입통관계획코드']\n",
    "le.fit(label)\n",
    "label_encoded = le.transform(label)\n",
    "l_e_df = pd.DataFrame(label_encoded, columns=['label_encoded'])\n",
    "t_df['수입통관계획코드'] = l_e_df\n",
    "\n",
    "\n",
    "label = t_df['수입신고구분코드']\n",
    "le.fit(label)\n",
    "label_encoded = le.transform(label)\n",
    "l_e_df = pd.DataFrame(label_encoded, columns=['label_encoded'])\n",
    "t_df['수입신고구분코드'] = l_e_df\n",
    "\n",
    "le = LabelEncoder()\n",
    "label = t_df['원산지국가코드']\n",
    "le.fit(label)\n",
    "label_encoded = le.transform(label)\n",
    "l_e_df = pd.DataFrame(label_encoded, columns=['label_encoded'])\n",
    "t_df['원산지국가코드'] = l_e_df\n",
    "\n",
    "le = LabelEncoder()\n",
    "label = t_df['적출국가코드']\n",
    "le.fit(label)\n",
    "label_encoded = le.transform(label)\n",
    "l_e_df = pd.DataFrame(label_encoded, columns=['label_encoded'])\n",
    "t_df['적출국가코드'] = l_e_df\n",
    "\n",
    "le = LabelEncoder()\n",
    "label = t_df['관세율구분코드']\n",
    "le.fit(label)\n",
    "label_encoded = le.transform(label)\n",
    "l_e_df = pd.DataFrame(label_encoded, columns = ['label_encoded'])\n",
    "t_df['관세율구분코드'] = l_e_df"
   ]
  },
  {
   "cell_type": "code",
   "execution_count": 79,
   "metadata": {},
   "outputs": [],
   "source": [
    "X_test = np.array(pd.DataFrame(t_df, columns = c))\n",
    "t_dt_prediction_1 = df_xgb_u.predict(X_test)\n",
    "t_dt_prediction_2 = df_xgb_h.predict(X_test)"
   ]
  },
  {
   "cell_type": "code",
   "execution_count": 80,
   "metadata": {},
   "outputs": [
    {
     "data": {
      "text/html": [
       "<div>\n",
       "<style scoped>\n",
       "    .dataframe tbody tr th:only-of-type {\n",
       "        vertical-align: middle;\n",
       "    }\n",
       "\n",
       "    .dataframe tbody tr th {\n",
       "        vertical-align: top;\n",
       "    }\n",
       "\n",
       "    .dataframe thead th {\n",
       "        text-align: right;\n",
       "    }\n",
       "</style>\n",
       "<table border=\"1\" class=\"dataframe\">\n",
       "  <thead>\n",
       "    <tr style=\"text-align: right;\">\n",
       "      <th></th>\n",
       "      <th>신고번호</th>\n",
       "      <th>우범여부</th>\n",
       "      <th>핵심적발</th>\n",
       "    </tr>\n",
       "  </thead>\n",
       "  <tbody>\n",
       "    <tr>\n",
       "      <th>0</th>\n",
       "      <td>982834</td>\n",
       "      <td>1</td>\n",
       "      <td>1</td>\n",
       "    </tr>\n",
       "    <tr>\n",
       "      <th>1</th>\n",
       "      <td>828961</td>\n",
       "      <td>1</td>\n",
       "      <td>1</td>\n",
       "    </tr>\n",
       "    <tr>\n",
       "      <th>2</th>\n",
       "      <td>522066</td>\n",
       "      <td>1</td>\n",
       "      <td>1</td>\n",
       "    </tr>\n",
       "    <tr>\n",
       "      <th>3</th>\n",
       "      <td>999547</td>\n",
       "      <td>1</td>\n",
       "      <td>1</td>\n",
       "    </tr>\n",
       "    <tr>\n",
       "      <th>4</th>\n",
       "      <td>919320</td>\n",
       "      <td>1</td>\n",
       "      <td>1</td>\n",
       "    </tr>\n",
       "    <tr>\n",
       "      <th>...</th>\n",
       "      <td>...</td>\n",
       "      <td>...</td>\n",
       "      <td>...</td>\n",
       "    </tr>\n",
       "    <tr>\n",
       "      <th>10268</th>\n",
       "      <td>857321</td>\n",
       "      <td>1</td>\n",
       "      <td>1</td>\n",
       "    </tr>\n",
       "    <tr>\n",
       "      <th>10269</th>\n",
       "      <td>621501</td>\n",
       "      <td>1</td>\n",
       "      <td>1</td>\n",
       "    </tr>\n",
       "    <tr>\n",
       "      <th>10270</th>\n",
       "      <td>998367</td>\n",
       "      <td>1</td>\n",
       "      <td>1</td>\n",
       "    </tr>\n",
       "    <tr>\n",
       "      <th>10271</th>\n",
       "      <td>697376</td>\n",
       "      <td>1</td>\n",
       "      <td>1</td>\n",
       "    </tr>\n",
       "    <tr>\n",
       "      <th>10272</th>\n",
       "      <td>707900</td>\n",
       "      <td>1</td>\n",
       "      <td>1</td>\n",
       "    </tr>\n",
       "  </tbody>\n",
       "</table>\n",
       "<p>10273 rows × 3 columns</p>\n",
       "</div>"
      ],
      "text/plain": [
       "         신고번호  우범여부  핵심적발\n",
       "0      982834     1     1\n",
       "1      828961     1     1\n",
       "2      522066     1     1\n",
       "3      999547     1     1\n",
       "4      919320     1     1\n",
       "...       ...   ...   ...\n",
       "10268  857321     1     1\n",
       "10269  621501     1     1\n",
       "10270  998367     1     1\n",
       "10271  697376     1     1\n",
       "10272  707900     1     1\n",
       "\n",
       "[10273 rows x 3 columns]"
      ]
     },
     "execution_count": 80,
     "metadata": {},
     "output_type": "execute_result"
    }
   ],
   "source": [
    "test_result = pd.DataFrame()\n",
    "test_result['신고번호'] = t_df['신고번호']\n",
    "test_result['우범여부'] = t_dt_prediction_1\n",
    "test_result['핵심적발'] = t_dt_prediction_2\n",
    "\n",
    "test_result"
   ]
  },
  {
   "cell_type": "code",
   "execution_count": null,
   "metadata": {},
   "outputs": [],
   "source": []
  }
 ],
 "metadata": {
  "kernelspec": {
   "display_name": "Python 3",
   "language": "python",
   "name": "python3"
  },
  "language_info": {
   "codemirror_mode": {
    "name": "ipython",
    "version": 3
   },
   "file_extension": ".py",
   "mimetype": "text/x-python",
   "name": "python",
   "nbconvert_exporter": "python",
   "pygments_lexer": "ipython3",
   "version": "3.8.5"
  }
 },
 "nbformat": 4,
 "nbformat_minor": 4
}
