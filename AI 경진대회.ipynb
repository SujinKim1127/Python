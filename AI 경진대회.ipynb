{
 "cells": [
  {
   "cell_type": "code",
   "execution_count": 2,
   "metadata": {},
   "outputs": [],
   "source": [
    "import pandas as pd"
   ]
  },
  {
   "cell_type": "code",
   "execution_count": 4,
   "metadata": {},
   "outputs": [
    {
     "data": {
      "text/html": [
       "<div>\n",
       "<style scoped>\n",
       "    .dataframe tbody tr th:only-of-type {\n",
       "        vertical-align: middle;\n",
       "    }\n",
       "\n",
       "    .dataframe tbody tr th {\n",
       "        vertical-align: top;\n",
       "    }\n",
       "\n",
       "    .dataframe thead th {\n",
       "        text-align: right;\n",
       "    }\n",
       "</style>\n",
       "<table border=\"1\" class=\"dataframe\">\n",
       "  <thead>\n",
       "    <tr style=\"text-align: right;\">\n",
       "      <th></th>\n",
       "      <th>신고번호</th>\n",
       "      <th>신고일자</th>\n",
       "      <th>통관지세관부호</th>\n",
       "      <th>신고인부호</th>\n",
       "      <th>수입자부호</th>\n",
       "      <th>해외거래처부호</th>\n",
       "      <th>특송업체부호</th>\n",
       "      <th>수입통관계획코드</th>\n",
       "      <th>수입신고구분코드</th>\n",
       "      <th>수입거래구분코드</th>\n",
       "      <th>...</th>\n",
       "      <th>과세가격원화금액</th>\n",
       "      <th>운송수단유형코드</th>\n",
       "      <th>반입보세구역부호</th>\n",
       "      <th>HS10단위부호</th>\n",
       "      <th>적출국가코드</th>\n",
       "      <th>원산지국가코드</th>\n",
       "      <th>관세율구분코드</th>\n",
       "      <th>관세율</th>\n",
       "      <th>우범여부</th>\n",
       "      <th>핵심적발</th>\n",
       "    </tr>\n",
       "  </thead>\n",
       "  <tbody>\n",
       "    <tr>\n",
       "      <th>0</th>\n",
       "      <td>57298928</td>\n",
       "      <td>2020-01-01</td>\n",
       "      <td>121</td>\n",
       "      <td>2O5A2</td>\n",
       "      <td>82ZHWNL</td>\n",
       "      <td>NaN</td>\n",
       "      <td>TQ18AK</td>\n",
       "      <td>D</td>\n",
       "      <td>B</td>\n",
       "      <td>15</td>\n",
       "      <td>...</td>\n",
       "      <td>5.397966e+03</td>\n",
       "      <td>10</td>\n",
       "      <td>2106003</td>\n",
       "      <td>8481900000</td>\n",
       "      <td>US</td>\n",
       "      <td>US</td>\n",
       "      <td>A</td>\n",
       "      <td>8.0</td>\n",
       "      <td>1</td>\n",
       "      <td>1</td>\n",
       "    </tr>\n",
       "    <tr>\n",
       "      <th>1</th>\n",
       "      <td>85092852</td>\n",
       "      <td>2020-01-01</td>\n",
       "      <td>30</td>\n",
       "      <td>305K5</td>\n",
       "      <td>5IS70LE</td>\n",
       "      <td>NaN</td>\n",
       "      <td>NaN</td>\n",
       "      <td>C</td>\n",
       "      <td>B</td>\n",
       "      <td>11</td>\n",
       "      <td>...</td>\n",
       "      <td>5.730972e+05</td>\n",
       "      <td>40</td>\n",
       "      <td>4077010</td>\n",
       "      <td>2106909099</td>\n",
       "      <td>US</td>\n",
       "      <td>US</td>\n",
       "      <td>A</td>\n",
       "      <td>8.0</td>\n",
       "      <td>0</td>\n",
       "      <td>0</td>\n",
       "    </tr>\n",
       "    <tr>\n",
       "      <th>2</th>\n",
       "      <td>63014158</td>\n",
       "      <td>2020-01-01</td>\n",
       "      <td>20</td>\n",
       "      <td>CGMT6</td>\n",
       "      <td>GJ5KBL3</td>\n",
       "      <td>R9ZQOG7</td>\n",
       "      <td>NaN</td>\n",
       "      <td>D</td>\n",
       "      <td>B</td>\n",
       "      <td>11</td>\n",
       "      <td>...</td>\n",
       "      <td>5.219489e+04</td>\n",
       "      <td>40</td>\n",
       "      <td>4077007</td>\n",
       "      <td>6307909000</td>\n",
       "      <td>US</td>\n",
       "      <td>US</td>\n",
       "      <td>A</td>\n",
       "      <td>10.0</td>\n",
       "      <td>0</td>\n",
       "      <td>0</td>\n",
       "    </tr>\n",
       "    <tr>\n",
       "      <th>3</th>\n",
       "      <td>40175917</td>\n",
       "      <td>2020-01-01</td>\n",
       "      <td>40</td>\n",
       "      <td>QWUTG</td>\n",
       "      <td>PBYW02T</td>\n",
       "      <td>NaN</td>\n",
       "      <td>NaN</td>\n",
       "      <td>C</td>\n",
       "      <td>B</td>\n",
       "      <td>94</td>\n",
       "      <td>...</td>\n",
       "      <td>1.773608e+06</td>\n",
       "      <td>40</td>\n",
       "      <td>4077106</td>\n",
       "      <td>6505009090</td>\n",
       "      <td>CN</td>\n",
       "      <td>CN</td>\n",
       "      <td>A</td>\n",
       "      <td>8.0</td>\n",
       "      <td>0</td>\n",
       "      <td>0</td>\n",
       "    </tr>\n",
       "    <tr>\n",
       "      <th>4</th>\n",
       "      <td>11602631</td>\n",
       "      <td>2020-01-01</td>\n",
       "      <td>30</td>\n",
       "      <td>0X1CO</td>\n",
       "      <td>MCX0GJB</td>\n",
       "      <td>4Z9PX0Y</td>\n",
       "      <td>NaN</td>\n",
       "      <td>C</td>\n",
       "      <td>B</td>\n",
       "      <td>11</td>\n",
       "      <td>...</td>\n",
       "      <td>8.777327e+06</td>\n",
       "      <td>40</td>\n",
       "      <td>2006075</td>\n",
       "      <td>6204320000</td>\n",
       "      <td>CN</td>\n",
       "      <td>CN</td>\n",
       "      <td>FCN1</td>\n",
       "      <td>5.2</td>\n",
       "      <td>1</td>\n",
       "      <td>1</td>\n",
       "    </tr>\n",
       "    <tr>\n",
       "      <th>...</th>\n",
       "      <td>...</td>\n",
       "      <td>...</td>\n",
       "      <td>...</td>\n",
       "      <td>...</td>\n",
       "      <td>...</td>\n",
       "      <td>...</td>\n",
       "      <td>...</td>\n",
       "      <td>...</td>\n",
       "      <td>...</td>\n",
       "      <td>...</td>\n",
       "      <td>...</td>\n",
       "      <td>...</td>\n",
       "      <td>...</td>\n",
       "      <td>...</td>\n",
       "      <td>...</td>\n",
       "      <td>...</td>\n",
       "      <td>...</td>\n",
       "      <td>...</td>\n",
       "      <td>...</td>\n",
       "      <td>...</td>\n",
       "      <td>...</td>\n",
       "    </tr>\n",
       "    <tr>\n",
       "      <th>89350</th>\n",
       "      <td>78046993</td>\n",
       "      <td>2020-11-22</td>\n",
       "      <td>10</td>\n",
       "      <td>M9SYU</td>\n",
       "      <td>K8195QD</td>\n",
       "      <td>NaN</td>\n",
       "      <td>PR5UFJ</td>\n",
       "      <td>C</td>\n",
       "      <td>B</td>\n",
       "      <td>11</td>\n",
       "      <td>...</td>\n",
       "      <td>9.139535e+04</td>\n",
       "      <td>10</td>\n",
       "      <td>4002001</td>\n",
       "      <td>703101000</td>\n",
       "      <td>CN</td>\n",
       "      <td>CN</td>\n",
       "      <td>W2</td>\n",
       "      <td>135.0</td>\n",
       "      <td>0</td>\n",
       "      <td>0</td>\n",
       "    </tr>\n",
       "    <tr>\n",
       "      <th>89351</th>\n",
       "      <td>85641293</td>\n",
       "      <td>2020-11-22</td>\n",
       "      <td>41</td>\n",
       "      <td>T7VQN</td>\n",
       "      <td>MSE4EAG</td>\n",
       "      <td>NaN</td>\n",
       "      <td>NaN</td>\n",
       "      <td>E</td>\n",
       "      <td>E</td>\n",
       "      <td>15</td>\n",
       "      <td>...</td>\n",
       "      <td>3.752803e+04</td>\n",
       "      <td>40</td>\n",
       "      <td>4077008</td>\n",
       "      <td>6804220000</td>\n",
       "      <td>CN</td>\n",
       "      <td>CN</td>\n",
       "      <td>FCN1</td>\n",
       "      <td>0.0</td>\n",
       "      <td>0</td>\n",
       "      <td>0</td>\n",
       "    </tr>\n",
       "    <tr>\n",
       "      <th>89352</th>\n",
       "      <td>15760215</td>\n",
       "      <td>2020-11-22</td>\n",
       "      <td>40</td>\n",
       "      <td>7Q31W</td>\n",
       "      <td>5BC6UCR</td>\n",
       "      <td>QW3LA8B</td>\n",
       "      <td>NaN</td>\n",
       "      <td>C</td>\n",
       "      <td>B</td>\n",
       "      <td>29</td>\n",
       "      <td>...</td>\n",
       "      <td>1.381431e+04</td>\n",
       "      <td>10</td>\n",
       "      <td>2086001</td>\n",
       "      <td>8210005000</td>\n",
       "      <td>CN</td>\n",
       "      <td>CN</td>\n",
       "      <td>A</td>\n",
       "      <td>8.0</td>\n",
       "      <td>0</td>\n",
       "      <td>0</td>\n",
       "    </tr>\n",
       "    <tr>\n",
       "      <th>89353</th>\n",
       "      <td>20569033</td>\n",
       "      <td>2020-11-22</td>\n",
       "      <td>40</td>\n",
       "      <td>UJ0JR</td>\n",
       "      <td>U7KJPA6</td>\n",
       "      <td>TJW57CJ</td>\n",
       "      <td>O04TIW</td>\n",
       "      <td>F</td>\n",
       "      <td>B</td>\n",
       "      <td>15</td>\n",
       "      <td>...</td>\n",
       "      <td>4.030176e+03</td>\n",
       "      <td>40</td>\n",
       "      <td>1618003</td>\n",
       "      <td>3304999000</td>\n",
       "      <td>CA</td>\n",
       "      <td>CA</td>\n",
       "      <td>C</td>\n",
       "      <td>6.5</td>\n",
       "      <td>1</td>\n",
       "      <td>2</td>\n",
       "    </tr>\n",
       "    <tr>\n",
       "      <th>89354</th>\n",
       "      <td>79725596</td>\n",
       "      <td>2020-11-22</td>\n",
       "      <td>30</td>\n",
       "      <td>4TUUB</td>\n",
       "      <td>J2D5UL7</td>\n",
       "      <td>0UOB77D</td>\n",
       "      <td>NaN</td>\n",
       "      <td>Z</td>\n",
       "      <td>B</td>\n",
       "      <td>15</td>\n",
       "      <td>...</td>\n",
       "      <td>1.545601e+03</td>\n",
       "      <td>10</td>\n",
       "      <td>3078039</td>\n",
       "      <td>3304999000</td>\n",
       "      <td>HK</td>\n",
       "      <td>HK</td>\n",
       "      <td>C</td>\n",
       "      <td>6.5</td>\n",
       "      <td>0</td>\n",
       "      <td>0</td>\n",
       "    </tr>\n",
       "  </tbody>\n",
       "</table>\n",
       "<p>89355 rows × 23 columns</p>\n",
       "</div>"
      ],
      "text/plain": [
       "           신고번호        신고일자  통관지세관부호  신고인부호    수입자부호  해외거래처부호  특송업체부호  \\\n",
       "0      57298928  2020-01-01      121  2O5A2  82ZHWNL      NaN  TQ18AK   \n",
       "1      85092852  2020-01-01       30  305K5  5IS70LE      NaN     NaN   \n",
       "2      63014158  2020-01-01       20  CGMT6  GJ5KBL3  R9ZQOG7     NaN   \n",
       "3      40175917  2020-01-01       40  QWUTG  PBYW02T      NaN     NaN   \n",
       "4      11602631  2020-01-01       30  0X1CO  MCX0GJB  4Z9PX0Y     NaN   \n",
       "...         ...         ...      ...    ...      ...      ...     ...   \n",
       "89350  78046993  2020-11-22       10  M9SYU  K8195QD      NaN  PR5UFJ   \n",
       "89351  85641293  2020-11-22       41  T7VQN  MSE4EAG      NaN     NaN   \n",
       "89352  15760215  2020-11-22       40  7Q31W  5BC6UCR  QW3LA8B     NaN   \n",
       "89353  20569033  2020-11-22       40  UJ0JR  U7KJPA6  TJW57CJ  O04TIW   \n",
       "89354  79725596  2020-11-22       30  4TUUB  J2D5UL7  0UOB77D     NaN   \n",
       "\n",
       "      수입통관계획코드 수입신고구분코드  수입거래구분코드  ...      과세가격원화금액  운송수단유형코드  반입보세구역부호  \\\n",
       "0            D        B        15  ...  5.397966e+03        10   2106003   \n",
       "1            C        B        11  ...  5.730972e+05        40   4077010   \n",
       "2            D        B        11  ...  5.219489e+04        40   4077007   \n",
       "3            C        B        94  ...  1.773608e+06        40   4077106   \n",
       "4            C        B        11  ...  8.777327e+06        40   2006075   \n",
       "...        ...      ...       ...  ...           ...       ...       ...   \n",
       "89350        C        B        11  ...  9.139535e+04        10   4002001   \n",
       "89351        E        E        15  ...  3.752803e+04        40   4077008   \n",
       "89352        C        B        29  ...  1.381431e+04        10   2086001   \n",
       "89353        F        B        15  ...  4.030176e+03        40   1618003   \n",
       "89354        Z        B        15  ...  1.545601e+03        10   3078039   \n",
       "\n",
       "         HS10단위부호  적출국가코드  원산지국가코드  관세율구분코드    관세율 우범여부 핵심적발  \n",
       "0      8481900000      US       US        A    8.0    1    1  \n",
       "1      2106909099      US       US        A    8.0    0    0  \n",
       "2      6307909000      US       US        A   10.0    0    0  \n",
       "3      6505009090      CN       CN        A    8.0    0    0  \n",
       "4      6204320000      CN       CN     FCN1    5.2    1    1  \n",
       "...           ...     ...      ...      ...    ...  ...  ...  \n",
       "89350   703101000      CN       CN       W2  135.0    0    0  \n",
       "89351  6804220000      CN       CN     FCN1    0.0    0    0  \n",
       "89352  8210005000      CN       CN        A    8.0    0    0  \n",
       "89353  3304999000      CA       CA        C    6.5    1    2  \n",
       "89354  3304999000      HK       HK        C    6.5    0    0  \n",
       "\n",
       "[89355 rows x 23 columns]"
      ]
     },
     "execution_count": 4,
     "metadata": {},
     "output_type": "execute_result"
    }
   ],
   "source": [
    "df = pd.read_csv('train.csv')\n",
    "df"
   ]
  },
  {
   "cell_type": "markdown",
   "metadata": {},
   "source": [
    "### 신고일자 column에서 달만 추출"
   ]
  },
  {
   "cell_type": "code",
   "execution_count": 6,
   "metadata": {},
   "outputs": [],
   "source": [
    "df['신고일자']=pd.to_datetime(df['신고일자'])   #datetime으로\n",
    "df['신고일자_월'] = df['신고일자'].dt.month"
   ]
  },
  {
   "cell_type": "code",
   "execution_count": 7,
   "metadata": {},
   "outputs": [
    {
     "data": {
      "text/plain": [
       "array([ 1,  2,  3,  4,  5,  6,  7,  8,  9, 10, 11], dtype=int64)"
      ]
     },
     "execution_count": 7,
     "metadata": {},
     "output_type": "execute_result"
    }
   ],
   "source": [
    "df['신고일자_월'].unique()"
   ]
  },
  {
   "cell_type": "markdown",
   "metadata": {},
   "source": [
    "### 신고인부호"
   ]
  },
  {
   "cell_type": "code",
   "execution_count": 9,
   "metadata": {},
   "outputs": [
    {
     "data": {
      "text/plain": [
       "array(['2O5A2', '305K5', 'CGMT6', 'QWUTG', '0X1CO', 'QV6WA', 'BTMNQ',\n",
       "       '9TJBD', 'ZAV8X', 'RDDA3', 'WN68Z', 'LDZ42', 'JCOIV', '7Z767',\n",
       "       '90DJS', 'HOSTX', 'D2LHR', 'J9SYX', 'D3UN5', 'QUP4L', 'ZWWQR',\n",
       "       'Z5KQD', 'XNLY5', 'QPV57', 'ZYM25', 'FQSF7', '9J612', 'YBA4D',\n",
       "       'WTDS3', 'ZEWOY', 'JMTO5', 'N8ZDA', '3A8I7', '48BVY', 'QWXA9',\n",
       "       'EX3CM', 'CAG89', 'GXAPH', 'YNURP', 'FLZF8', 'MFVGQ', '7TNHP',\n",
       "       'WX0PH', 'ZIWZ5', 'VXXBS', 'WGUGM', 'M7H00', '82RO1', 'VTAHP',\n",
       "       'QOW7F', 'F6BJB', 'VRNEF', '6WN08', 'S7YY8', '5F3BP', 'NX7FG',\n",
       "       'LNXE0', 'KFCKA', '53W8N', '0ZK7G', 'W1SD2', 'PWT1V', 'ZFKMC',\n",
       "       '6YV1J', '6E1FQ', '8LF89', 'FCS2Y', 'SVDN5', '2DOHT', 'MELHS',\n",
       "       '5PMW1', 'H2IMQ', '61KA7', '2RRV1', 'ROTPV', 'B1LIZ', 'WLX9V',\n",
       "       '7OKD7', 'ICDM1', '0A0V6', 'XMKTR', 'MSWFH', '7Q31W', 'Z3EO2',\n",
       "       '7EWOF', '0BCW8', '4U9GW', 'ZUJ45', '8WH99', 'M26RC', 'DGKGI',\n",
       "       'BOMUQ', '379YD', '50BZJ', 'XQKDE', 'K2QZ9', 'UE64N', '00Z2U',\n",
       "       '62P2N', 'DDY4M', 'D94QZ', 'MD57F', 'HY5FQ', 'VSS3I', 'N9OEJ',\n",
       "       'KL5ZL', 'C0MFE', 'RLKAF', 'FHV72', 'F57Z2', '7OGVO', '3NVGH',\n",
       "       'NXVPO', 'Q0ZTL', 'VURU6', '3ZADI', '0BW53', 'MXQ80', 'IJRXR',\n",
       "       'X2EPE', 'KSHND', '5CBJ1', 'HJXRX', 'Z9J67', 'LDS24', 'YZAS8',\n",
       "       '8QRWX', 'IF4OH', '4WDK6', 'CYRL1', 'GKLFS', '9AYQ5', 'YQ752',\n",
       "       'W6BBT', '9BGZO', '8JXLF', '21X6T', '0GZ27', '75CY7', 'LWA4Z',\n",
       "       'H0MHO', 'RWTS0', 'E9RLO', 'OGZCI', 'O3I4E', 'VHVQX', '0UD1R',\n",
       "       'PPOL9', 'HKV4S', 'BN8UO', '7YSZ6', 'STDP1', 'M7DXJ', 'J7KHG',\n",
       "       '2SE2P', '1S4VL', 'D067B', 'H9N13', '8DSPT', 'IBFGF', 'V6GBP',\n",
       "       'CVR74', 'WS2BE', 'ZVQP5', 'HV54L', '75VNU', 'VBLHO', 'C8OES',\n",
       "       'REOU1', '9N2IC', 'S6HPR', 'HMTTT', '2JA5W', 'E0VOT', 'K39SQ',\n",
       "       'GDU1G', 'CPR0T', 'EM01D', 'SGTKY', 'I5IKF', 'T7VQN', 'AGA0C',\n",
       "       'MWG07', 'N26S4', '5CQSJ', 'W9NFV', '14MCZ', 'KKUWY', '1RC31',\n",
       "       'EWOS8', '4AQVL', '3OA23', 'X0623', 'A98Y0', 'WHIWJ', 'FKIIH',\n",
       "       'IW4V5', 'KPMXW', 'BQT4U', '382MF', 'YVYIV', 'K7T5T', 'LR85M',\n",
       "       'X75YJ', '7ZVN1', 'DLZME', '5QZXT', '8F38M', 'J11LB', '5HZ6O',\n",
       "       '3HQJ1', '9DEBF', 'OWHDN', 'ECXJX', 'TP47X', 'BCBEQ', '4QIDA',\n",
       "       'B1SY9', 'QK03W', 'XVJMZ', 'NMVON', 'EEG45', 'SIAOM', '10W4X',\n",
       "       'WSE0U', 'DYD7K', 'DWTCH', 'V8UJG', '72WV3', 'XHG35', 'SE8F5',\n",
       "       '3HJNU', '8BX8X', 'JM4OV', 'REL7W', 'VDAKN', '9OPHD', 'WUH7W',\n",
       "       'HE7J7', 'VQMLC', 'VGYYE', 'YYRGR', 'WT6KI', 'SNW1Q', 'RH05U',\n",
       "       'TQBCF', 'YNKCF', 'MTEVW', '3R276', '2RRLE', 'H9J0W', 'ZGL4V',\n",
       "       'RL7ZZ', 'E46IB', 'WD836', 'S86Q6', 'E7QGV', 'JV08P', 'A22TO',\n",
       "       'II96Z', 'PAO10', 'V3VEM', '1EH3Z', 'Q64CC', '7BOPY', 'D85Y4',\n",
       "       'UJRON', 'NG658', 'QKK9C', 'T6WPC', 'MEP0N', 'E8XJW', 'ZAP6F',\n",
       "       '6VBCB', 'HT5HQ', 'TW3HR', 'FOG72', 'Z6TMD', 'ZTW4X', 'GGPXB',\n",
       "       '343A9', '8SQNH', '1HUE4', 'SBBK9', 'KWHWU', 'DVJNA', 'WZ38D',\n",
       "       'XFRD3', '5SHW6', 'YBCE0', '9LPRK', 'RHA69', 'BW5G6', 'LFNZB',\n",
       "       'MNWYW', 'AZUAS', 'CK8T3', 'E8YHL', '4PAY7', 'DNI8D', 'L1XO4',\n",
       "       '7QFMD', 'WT9ZK', 'F2VBS', 'NG5UD', 'IA4MI', '7PGZO', 'M9Y2R',\n",
       "       'POXX9', 'PCOAY', 'Y5MNO', 'G9RSH', 'NMCGR', '1T62E', 'CRX56',\n",
       "       'GZDYY', 'JXMQS', 'N8BH0', '5ML6C', 'DQXOK', 'IV82L', 'BR909',\n",
       "       'N5PY5', 'UYJ5E', '5SDDJ', 'B2MTG', 'LNQ2Z', 'Y671O', 'WA68P',\n",
       "       '8J2WU', 'SPGWJ', 'UL1CT', '4TYA6', 'TGQKJ', 'PCXAO', '2BW8U',\n",
       "       'OQ53P', 'XVH3E', '02OP9', '4RYF8', 'N4LNE', 'M7JO0', 'A3V0V',\n",
       "       'VN117', 'BOY60', 'DYTEW', 'BWQQ5', 'C4AK2', 'XZ6I0', '6MIM6',\n",
       "       'HOAFA', 'IR418', 'SYU71', 'LWHHB', 'V9BMP', 'IYW5W', '1HM4B',\n",
       "       'H5844', 'ISON5', 'D3N1J', 'N1THD', 'QID92', 'JE20X', 'EBOZT',\n",
       "       '60ANS', 'N73AS', 'IM9CB', 'SJPSA', 'SDYQV', '466A0', '4310N',\n",
       "       'QKEZ0', 'HSVSZ', 'A279E', 'FTP50', 'VD3EK', 'GJF4V', 'B6DWP',\n",
       "       'TEEU9', 'YXGZ8', 'AMCPC', '9654A', 'CEMEV', 'Q9080', 'X8CL0',\n",
       "       'DGJGT', 'IUBO7', 'E40WA', 'GSQQ5', 'H2C1M', 'LRZ5K', 'CHR2D',\n",
       "       'TSY3Y', 'O0HLF', 'JZQPB', '6CIQZ', 'NPVML', 'YRXLN', 'HT1V7',\n",
       "       '0RA0G', '4MC8T', 'QJS6U', '8IZ83', 'D6TP1', 'V5E5Z', 'B5NV0',\n",
       "       'K0GGU', 'LVDWT', 'YKZU9', 'WA9LW', 'MW7G3', 'G76KA', 'IYVP0',\n",
       "       '2EO6C', '1WCZK', '9PW1G', 'VJWLR', 'D7WDV', 'H1AWQ', 'BRX0U',\n",
       "       '6CU2Z', '0T4OU', '3U5HN', 'N0Z3F', 'YTMNI', 'U3BVS', '4PC3W',\n",
       "       '3I2L1', '3P56A', 'M90LO', '2T8ID', 'AHYDS', 'ZDBD4', 'QUHN8',\n",
       "       '8VN5C', 'J29PQ', 'FIVJ3', 'A49KW', 'QUHSG', 'X1XAP', 'GKKTL',\n",
       "       'NH6X4', 'ZLYYT', '3YNH8', 'RUCNH', 'KNN5K', 'T15OA', 'A8MKH',\n",
       "       'T4KNU', '5UIGY', '7NF4S', 'VNMDR', 'IPYSD', 'J9AJI', 'MQI16',\n",
       "       'LLSVY', '686G4', 'V0W2T', 'ISCV2', 'R2MY7', 'ZL1UG', 'VMP2N',\n",
       "       'LBO6X', '77RZP', 'N2SA0', 'ACSG4', 'OCZNZ', 'JQ752', 'EDOTP',\n",
       "       '2HAU3', 'HCDUO', 'CMRT5', '8OK5B', '9D5W2', 'MOWMT', 'WKXY1',\n",
       "       'WA5M0', 'ZPSR7', 'Z4YLP', 'FYQXV', 'CP6L4', 'WXIFA', 'TEB6R',\n",
       "       'XQ9RT', '6M088', 'UO2TZ', 'DRPY2', 'BM0F9', 'UJ0JR', 'LHVGG',\n",
       "       '5O6BE', 'ZMH0P', 'LOR4J', 'YUCI3', '83MX4', 'LHHV6', '2ZRHS',\n",
       "       'SB0QL', 'V4QF1', 'UCM1M', 'ANT1X', 'UQOHC', '04PCF', 'GLQYV',\n",
       "       'XOO4L', '35U6G', 'T8VKW', 'UBE9D', 'FKMPG', 'L5V3R', 'UHSBN',\n",
       "       'N3HYV', 'P4057', 'FZPMO', 'PED5E', 'OWWOA', '03IV0', 'XOC6T',\n",
       "       'Z3ECA', 'IBMY2', '3DZ0U', 'H8A7U', 'I8LVU', 'TA73G', 'CFV3T',\n",
       "       'RKV3T', 'LYE90', 'CKB89', '20QAN', '0IBYN', '68YOJ', 'R12NU',\n",
       "       '2CY59', '9AZ7V', '5KH06', 'VE61N', 'H4MQI', '2P7HO', 'KJDUX',\n",
       "       'KYVG6', '523PK', '346YV', 'ISTI7', 'XDYSO', 'GICHD', 'M9SYU',\n",
       "       'WZ2BF', '43SM9', '3AZ57', 'C78HP', '24U3F', '7ZNW7', '5ICVZ',\n",
       "       'N8368', 'UQ5U2', 'DETCJ', 'BUP6D', 'SUNWC', 'RKNEE', 'D1AX1',\n",
       "       'F4O3C', 'G1Z5D', '553IX', '9T7C3', 'E8BFQ', 'ZWXZ8', 'X6XYS',\n",
       "       'P8NJ2', 'FT7E6', 'M00BP', 'FY4Z0', 'QSW6I', 'FRICO', 'C7IKN',\n",
       "       '7HYKA', 'BJ9LS', 'SEPOH', 'LBK5X', '75CN5', 'IBBKV', '3GYLK',\n",
       "       'PR8M3', 'VXXK1', 'N4SM8', 'VWJC4', 'JG8UZ', 'UN4QD', 'RWSY6',\n",
       "       '4R4P7', 'IRJQL', 'PBFX4', '1W5SH', 'VN78O', 'CHT9J', 'L610X',\n",
       "       'RBCOO', 'LTF34', 'MSNEW', 'G6UC1', '4JDJE', 'DDB6X', 'B51VN',\n",
       "       'DMJ7I', '38T53', 'KCFGM', 'A6XM8', 'AK769', 'NVUZ3', 'N2ABI',\n",
       "       'TWR7A', 'DMBC5', 'WBHLU', '5QFOG', 'IM60R', '8J98G', '8L174',\n",
       "       'C80LG', 'F32K4', 'Z8XR2', '1QC72', 'NJMTL', '4DNI3', 'F17JT',\n",
       "       'YTCGY', 'S4OUA', 'R5NLW', 'XO88N', '2VH3Z', 'BT2D9', 'Q7F8E',\n",
       "       'UFDW0', 'VQRT9', 'E3L4R', 'UIURE', 'K1SVA', 'VTG12', 'SGONG',\n",
       "       'EVB49', 'FM6F0', '7VB09', 'JD8UQ', 'HZFJC', 'TOKKK', 'TIPED',\n",
       "       'B6F38', 'LDPYO', '54O8A', 'PHM94', 'NOI1G', 'IK9FG', 'OR1OC',\n",
       "       'LJYIU', 'OEFSU', 'U52WC', 'EYIUE', '112BI', '0TSUK', 'MC7R7',\n",
       "       'Q7D5W', 'RLSTS', 'RT9QG', 'ZEQUW', 'MHOFH', 'EZ3NW', 'BIAUJ',\n",
       "       'DLTR3', 'FCTVN', '7C4EF', '3HYIL', '7SCQU', '3V1GM', 'J3ECJ',\n",
       "       'ABSEF', 'PM5WP', '0SDJE', 'NUFMK', '4RDKK', '2IRWC', 'AMMMV',\n",
       "       'I5ZVI', '0QRQ8', 'LW9L1', '0UYR6', 'S1LZE', '961XR', 'DHY9L',\n",
       "       '613ET', 'AW8EE', '7HY1S', 'APE4W', 'NI6W3', 'VOOPY', 'DZGQU',\n",
       "       '3P2Q6', '5JKY8', 'KVYEC', 'J9I14', 'TWN42', '3RXQA', '1V8KP',\n",
       "       '2HFRM', 'L9DLC', 'UTJBS', 'LBVKU', 'ECLL6', 'WFWE3', 'H7U0M',\n",
       "       '6C8WI', '4NDGH', 'J084R', 'O7RYS', '4ZKBC', 'TFRTS', '67GHO',\n",
       "       'NZVRR', 'UY33P', 'O1TI8', '0QN4A', '4TUUB', 'N2J8U', 'LE58B',\n",
       "       'M5JM5', 'UP9J3', 'AYO13', 'IKQRS', '4J1FC', 'YSLTB', 'UZMOT',\n",
       "       '6GGTB', 'CJ22Z', 'D8R4L', '0HQQA', 'OR1XG', '5MQ8P', 'WJABF',\n",
       "       'G00UY', 'U7KMV', 'NAKN7', 'EKZX5', 'N2F35', 'ZRCKX', '6FNEZ',\n",
       "       'FTNSC', 'ZJ3XZ', '31JEH', 'F8KM3', '7SDT3', 'B8K9G', 'JCC3S',\n",
       "       '657W1', '0T7H9', 'ICV60', 'BUEOD', 'KGRFC', 'LZ9CD', 'G1NYE',\n",
       "       '1XQ5R', 'LS71Q', 'VJGKX', 'UCD4N', 'C2VWT', '2GKZT', 'DXDZ6',\n",
       "       'S2EA0', 'VLLYI', 'JED97', 'H92TS', 'TJ9QA', 'K7F9D', 'BKP9I',\n",
       "       'PA4A4', '00553', '0GY99', 'LA8ZT', 'Z7EVI', 'E98W3', '4BKQH',\n",
       "       'T1C4S', 'HVUXE', '1T4SL', 'UVDWQ', 'IEV8A', 'K37DU', '0R8LM',\n",
       "       '9SOJQ', '4D26Q', 'HD09L', '3GXTX', 'HWIQ4', 'GJD0J', 'PCCFG',\n",
       "       '94LQ8', 'PR3K2', 'W7JO5', 'I2ECP', 'IR3EZ', 'TZ07X', 'DQ1BG',\n",
       "       'NYLAD', 'BY3LF', '9JPHI', '91FBY', 'FQ4HT', '0GUZD', 'GUC76',\n",
       "       '2SGER', 'BPRGI', '3MI2K', 'DS5R2', 'MMMYT', 'H7UWV', 'NXSLV',\n",
       "       'H0DT9', '0HQV0', 'EU4XI', 'Q1FKV', '153NL', 'Q5811', '3NUHD',\n",
       "       'UP0C4', 'CTI15', 'LVJXN', 'BG6RU', 'L68D1', 'UONQC', 'CJIO0',\n",
       "       'NB03R', '7JEMA', 'YEFDW', 'HU850', '7BBBV', 'TZRD8', 'LG083',\n",
       "       'F5I8H', 'HVZFP', 'GGSXG', 'W3FT6', 'D4R20', '87UTY', '14AJ4',\n",
       "       'GFI61', 'FO600', '7I1CR', 'DB524', 'DI8E8', '6YR8M', 'D6BIR',\n",
       "       '3E02B', '9MVCS', '0HBED', '6OALF', 'Q5B7K', 'O7ANB', '12XQH',\n",
       "       'SBETW', '355TQ', 'Q5FL1', 'YJT55', 'R12T9', 'IG71U', 'SLT40',\n",
       "       'OGV2F', 'DIXQI', 'FLJ0F', 'FC1EL', 'V777Y', '2VC4X', 'WN3RV',\n",
       "       'RAUB6', 'HBAR2', 'UZT9Y', 'JNFP0', '1IKCX', 'Q46ZD', '18XPW',\n",
       "       'LJBJD', '5PUTE', '1XNUV', 'YJ7IE', '4IQ6O', 'UM4U5', 'WB7KV',\n",
       "       'Q2QFQ', 'FWMFL', 'BI18S', '4GV6J', 'WG5H2', '287N9', 'ZHRM3',\n",
       "       '4A4CW', 'KJXST', '7UO58', 'XJ61Q', 'X5IAM', 'JVF1M', 'VZ39R',\n",
       "       'OAGH7', '5JLK4', 'IS7N2', 'DNU3C', '77FIJ', '6GOBW', 'DIOSA',\n",
       "       '55K0I', '7PIDU', '6OFLJ', '5W2CL', 'T2WOG', 'ZZS9F', '20ZVA',\n",
       "       'H7449', 'DR3LD', 'NVL6D', '7A36S', 'JF736', 'JYVEM', 'OTSPT',\n",
       "       'S45J0', 'GNEHQ', '9DGTG', 'ZFARO', 'YIQ4K', 'G6ECH', '2E7FR',\n",
       "       'U8P65', 'JYONR', '51AGR', 'A69J2', 'LWJ1P', 'JSS5O', 'CRS76',\n",
       "       'B0J66', 'UOHHV', 'D5NEK', 'IETN2', 'XNE9F', 'H151H', 'KCDWS',\n",
       "       '77B9J', '1BWI9', 'OGZ8H', 'Z3S2U', 'NHQR6', 'B3ORF', '3RQEU',\n",
       "       '6PRVJ', '3VAS0', 'UZ2X4', 'YS6VC', '5VWC1', 'TWFLG', 'O9G2O',\n",
       "       'ZBWRQ', 'EM8IO', 'IZ94R', 'E9B2B', '9RWN3', 'MTAIL', 'ZG5S5',\n",
       "       'EBNDB', 'WM5Q7', 'AC4E3', 'I9YH6', '30Q2U', '251BA'], dtype=object)"
      ]
     },
     "execution_count": 9,
     "metadata": {},
     "output_type": "execute_result"
    }
   ],
   "source": [
    "df['신고인부호'].unique()"
   ]
  },
  {
   "cell_type": "markdown",
   "metadata": {},
   "source": [
    "### 수입자부호"
   ]
  },
  {
   "cell_type": "code",
   "execution_count": 10,
   "metadata": {},
   "outputs": [
    {
     "data": {
      "text/plain": [
       "array(['82ZHWNL', '5IS70LE', 'GJ5KBL3', ..., 'N65MJ0E', '2K7ZFS0',\n",
       "       'MROTHDM'], dtype=object)"
      ]
     },
     "execution_count": 10,
     "metadata": {},
     "output_type": "execute_result"
    }
   ],
   "source": [
    "df['수입자부호'].unique()"
   ]
  },
  {
   "cell_type": "code",
   "execution_count": 11,
   "metadata": {},
   "outputs": [
    {
     "data": {
      "text/plain": [
       "82ZHWNL    400\n",
       "VDQCE8U    351\n",
       "18FVF01    287\n",
       "O8B0380    247\n",
       "DA4FLAJ    240\n",
       "          ... \n",
       "MLS4KTB      1\n",
       "8OVB2V9      1\n",
       "9AA3GKK      1\n",
       "21PWZ05      1\n",
       "HQCSS6X      1\n",
       "Name: 수입자부호, Length: 8417, dtype: int64"
      ]
     },
     "execution_count": 11,
     "metadata": {},
     "output_type": "execute_result"
    }
   ],
   "source": [
    "df['수입자부호'].value_counts(dropna=False)"
   ]
  },
  {
   "cell_type": "markdown",
   "metadata": {},
   "source": [
    "### 해외거래처부호"
   ]
  },
  {
   "cell_type": "code",
   "execution_count": 12,
   "metadata": {},
   "outputs": [
    {
     "data": {
      "text/plain": [
       "array([nan, 'R9ZQOG7', '4Z9PX0Y', ..., 'YOZEPF2', '25SOSMN', 'NAB1I2E'],\n",
       "      dtype=object)"
      ]
     },
     "execution_count": 12,
     "metadata": {},
     "output_type": "execute_result"
    }
   ],
   "source": [
    "df['해외거래처부호'].unique()"
   ]
  },
  {
   "cell_type": "code",
   "execution_count": 13,
   "metadata": {},
   "outputs": [
    {
     "data": {
      "text/plain": [
       "NaN        30432\n",
       "WQZVLM0      594\n",
       "R0XT3H9      413\n",
       "MW8PLZN      406\n",
       "VQJ47O3      379\n",
       "           ...  \n",
       "DJYG3LS        1\n",
       "YTJ57QT        1\n",
       "FIGACLT        1\n",
       "5ERB8KU        1\n",
       "JF4IRFT        1\n",
       "Name: 해외거래처부호, Length: 4779, dtype: int64"
      ]
     },
     "execution_count": 13,
     "metadata": {},
     "output_type": "execute_result"
    }
   ],
   "source": [
    "df['해외거래처부호'].value_counts(dropna=False)"
   ]
  },
  {
   "cell_type": "markdown",
   "metadata": {},
   "source": [
    "Nan 처리해주기    \n",
    "### 특송업체부호"
   ]
  },
  {
   "cell_type": "code",
   "execution_count": 14,
   "metadata": {},
   "outputs": [
    {
     "data": {
      "text/plain": [
       "array(['TQ18AK', nan, 'PAVJZL', 'VACAWV', 'QP5OME', 'ID7FLR', 'QJ0YGH',\n",
       "       'L2ILSN', 'RG7BYC', 'TOO0OK', 'QSV8RY', 'PR5UFJ', '90DF54',\n",
       "       'O04TIW', 'PZYUR4', 'HN5E27', 'A9QWI8', '24BG4R', 'KTBTZT',\n",
       "       '5HIQAV', 'VSYNVB', '6AXUNR', 'C54WLZ', 'YBNP69', 'D3H0A4',\n",
       "       '26O9QU', 'K35446', 'YXAKR4', 'CRVF1Z', 'XK2HKR', 'HGT4IX',\n",
       "       'OJ6WM3', '9BO2S9', '6MSSDI', 'QKUSM1', '6TFEP5', '2ADDNP',\n",
       "       'NBYTNK', 'L67RFP', 'Q8TBEO', 'RKP5AP', '8Z7M3O', '718MAA',\n",
       "       '883CMC', 'XIKL72', '6RJ8HT', '47QGIA', '6VXR7R', '8Q2G59',\n",
       "       '98GCBT', '1E2DJD', 'BLQXV7', '6EM00W', 'M72HED', 'HRIQ4G',\n",
       "       'HB62YN', 'M7SEXF', '5SZ7FO', 'VI9G4M', 'Q03ZS4', 'FK5XHP',\n",
       "       'RDEAWL', 'ME9TG4', 'O2J0OX', 'MWL4TG', 'KMQGJQ', 'FJ0YAA',\n",
       "       'ZVCGS6', '1A3HEJ', 'YGHZ0X', 'WDVVLL', 'A41WVG', 'I8ST7N',\n",
       "       'ID1L6P', 'MRD73X', '6FE43Q', 'AMGRF5', '5FDIRV', '1EZAFG',\n",
       "       'PNE6WR', 'L0ZLXK'], dtype=object)"
      ]
     },
     "execution_count": 14,
     "metadata": {},
     "output_type": "execute_result"
    }
   ],
   "source": [
    "df['특송업체부호'].unique()"
   ]
  },
  {
   "cell_type": "code",
   "execution_count": 15,
   "metadata": {},
   "outputs": [
    {
     "data": {
      "text/plain": [
       "NaN       60050\n",
       "PR5UFJ     5800\n",
       "PAVJZL     3314\n",
       "24BG4R     1425\n",
       "TQ18AK     1311\n",
       "          ...  \n",
       "PNE6WR       30\n",
       "ID1L6P       29\n",
       "MWL4TG       21\n",
       "M72HED       20\n",
       "5FDIRV       17\n",
       "Name: 특송업체부호, Length: 81, dtype: int64"
      ]
     },
     "execution_count": 15,
     "metadata": {},
     "output_type": "execute_result"
    }
   ],
   "source": [
    "df['특송업체부호'].value_counts(dropna=False)"
   ]
  },
  {
   "cell_type": "markdown",
   "metadata": {},
   "source": [
    "Nan이 많은데 삭제하는게 나으려나..???\n",
    "### 수입통관계획코드, 수입신고구분코드"
   ]
  },
  {
   "cell_type": "code",
   "execution_count": 21,
   "metadata": {},
   "outputs": [
    {
     "data": {
      "text/plain": [
       "array([2, 1, 0, 3, 4, 5, 6])"
      ]
     },
     "execution_count": 21,
     "metadata": {},
     "output_type": "execute_result"
    }
   ],
   "source": [
    "df['수입통관계획코드'].unique()"
   ]
  },
  {
   "cell_type": "code",
   "execution_count": 22,
   "metadata": {},
   "outputs": [
    {
     "data": {
      "text/plain": [
       "array(['B', 'D', 'A', 'E'], dtype=object)"
      ]
     },
     "execution_count": 22,
     "metadata": {},
     "output_type": "execute_result"
    }
   ],
   "source": [
    "df['수입신고구분코드'].unique()"
   ]
  },
  {
   "cell_type": "code",
   "execution_count": 18,
   "metadata": {},
   "outputs": [],
   "source": [
    "from sklearn.preprocessing import LabelEncoder\n",
    "le = LabelEncoder()\n",
    "label = df['수입통관계획코드']\n",
    "le.fit(label)\n",
    "label_encoded = le.transform(label)"
   ]
  },
  {
   "cell_type": "code",
   "execution_count": 19,
   "metadata": {},
   "outputs": [
    {
     "data": {
      "text/plain": [
       "array([2, 1, 0, 3, 4, 5, 6])"
      ]
     },
     "execution_count": 19,
     "metadata": {},
     "output_type": "execute_result"
    }
   ],
   "source": [
    "l_e_df = pd.DataFrame(label_encoded, columns=['label_encoded'])\n",
    "df['수입통관계획코드'] = l_e_df\n",
    "df['수입통관계획코드'].unique()"
   ]
  },
  {
   "cell_type": "code",
   "execution_count": 23,
   "metadata": {},
   "outputs": [],
   "source": [
    "label = df['수입신고구분코드']\n",
    "le.fit(label)\n",
    "label_encoded = le.transform(label)"
   ]
  },
  {
   "cell_type": "code",
   "execution_count": 24,
   "metadata": {},
   "outputs": [
    {
     "data": {
      "text/plain": [
       "array([1, 2, 0, 3])"
      ]
     },
     "execution_count": 24,
     "metadata": {},
     "output_type": "execute_result"
    }
   ],
   "source": [
    "l_e_df = pd.DataFrame(label_encoded, columns=['label_encoded'])\n",
    "df['수입신고구분코드'] = l_e_df\n",
    "df['수입신고구분코드'].unique()"
   ]
  },
  {
   "cell_type": "markdown",
   "metadata": {},
   "source": [
    "label encoding으로 처리\n",
    "### 적출국가코드, 원산지국가코드"
   ]
  },
  {
   "cell_type": "code",
   "execution_count": 25,
   "metadata": {},
   "outputs": [
    {
     "data": {
      "text/plain": [
       "array(['US', 'CN', 'JP', 'IN', 'TH', 'SG', 'TW', 'HK', 'IL', 'CA', 'MY',\n",
       "       'NL', 'DE', 'AU', 'ES', 'IT', 'GB', 'VN', 'PR', 'AE', 'PA', 'EC',\n",
       "       'SA', 'FR', 'KR', 'FI', 'RU', 'BE', 'KH', 'ID', 'PH', 'SE', 'MO',\n",
       "       'MX', 'CL', 'BD', 'DK', 'SI', 'GU', 'EG', 'BR', 'NZ', 'PK', 'CH',\n",
       "       'RO', 'MM', 'QA', 'KW', 'GR', 'MN', 'HU', 'AT', 'GN', 'TR', 'SN',\n",
       "       'PT', 'NP', 'KG', 'EE', 'ZA', 'BN', 'LU', 'LV', 'PY', 'UZ', 'LK',\n",
       "       'NO', 'PL', 'ET', 'SO', 'CZ', 'PE', 'SB', 'LT', 'OM', 'ZZ', 'LI',\n",
       "       'BG', 'AS', 'CR', 'UG', 'HR', 'MG', 'DO', 'BH', 'IE', 'AR', 'NG',\n",
       "       'MH'], dtype=object)"
      ]
     },
     "execution_count": 25,
     "metadata": {},
     "output_type": "execute_result"
    }
   ],
   "source": [
    "df['적출국가코드'].unique()"
   ]
  },
  {
   "cell_type": "code",
   "execution_count": 26,
   "metadata": {},
   "outputs": [
    {
     "data": {
      "text/plain": [
       "array(['US', 'CN', 'JP', 'IN', 'IT', 'TH', 'SG', 'TW', 'IL', 'MY', 'VN',\n",
       "       'TR', 'DE', 'AU', 'BG', 'GB', 'KR', 'PR', 'AE', 'HK', 'EC', 'SA',\n",
       "       'CA', 'FR', 'KH', 'ID', 'FI', 'RU', 'PH', 'HU', 'SE', 'ZZ', 'MD',\n",
       "       'PE', 'AT', 'BE', 'PL', 'MX', 'BD', 'DK', 'CL', 'ES', 'SI', 'VU',\n",
       "       'BR', 'NZ', 'RO', 'PK', 'CH', 'MM', 'SK', 'NL', 'BW', 'GR', 'MN',\n",
       "       'PT', 'NO', 'GN', 'LT', 'LK', 'SN', 'EG', 'ZA', 'IE', 'NP', 'MA',\n",
       "       'HN', 'TN', 'KG', 'EE', 'PY', 'GU', 'UZ', 'CZ', 'SO', 'AR', 'HR',\n",
       "       'SB', 'BA', 'OM', 'RS', 'SM', 'UA', 'WS', 'MG', 'GT', 'IR', 'BH',\n",
       "       'BO', 'MO', 'NG', 'AM', 'MH', 'CR'], dtype=object)"
      ]
     },
     "execution_count": 26,
     "metadata": {},
     "output_type": "execute_result"
    }
   ],
   "source": [
    "df['원산지국가코드'].unique()"
   ]
  },
  {
   "cell_type": "markdown",
   "metadata": {},
   "source": [
    "### 관세율구분코드"
   ]
  },
  {
   "cell_type": "code",
   "execution_count": 27,
   "metadata": {},
   "outputs": [
    {
     "data": {
      "text/plain": [
       "array(['A', 'FCN1', 'C', 'CIT', 'FIN1', 'FUS1', 'E1', 'FEU1', 'W2',\n",
       "       'FCN2', 'L', 'FAU1', 'FUS6', 'FCA1', 'FAS1', 'P3', 'F', 'W1',\n",
       "       'FUS5', 'FVN1', 'CIT1', 'FPE1', 'FCL1', 'FCN6', 'FNZ1', 'FEF1',\n",
       "       'P1', 'FTR1', 'FSG1', 'FUS2', 'FVN2', 'R', 'FEU6', 'C3', 'FCN4'],\n",
       "      dtype=object)"
      ]
     },
     "execution_count": 27,
     "metadata": {},
     "output_type": "execute_result"
    }
   ],
   "source": [
    "df['관세율구분코드'].unique()"
   ]
  },
  {
   "cell_type": "markdown",
   "metadata": {},
   "source": [
    "### int, float 형"
   ]
  },
  {
   "cell_type": "code",
   "execution_count": 28,
   "metadata": {},
   "outputs": [
    {
     "data": {
      "text/html": [
       "<div>\n",
       "<style scoped>\n",
       "    .dataframe tbody tr th:only-of-type {\n",
       "        vertical-align: middle;\n",
       "    }\n",
       "\n",
       "    .dataframe tbody tr th {\n",
       "        vertical-align: top;\n",
       "    }\n",
       "\n",
       "    .dataframe thead th {\n",
       "        text-align: right;\n",
       "    }\n",
       "</style>\n",
       "<table border=\"1\" class=\"dataframe\">\n",
       "  <thead>\n",
       "    <tr style=\"text-align: right;\">\n",
       "      <th></th>\n",
       "      <th>신고번호</th>\n",
       "      <th>통관지세관부호</th>\n",
       "      <th>수입통관계획코드</th>\n",
       "      <th>수입신고구분코드</th>\n",
       "      <th>수입거래구분코드</th>\n",
       "      <th>수입종류코드</th>\n",
       "      <th>징수형태코드</th>\n",
       "      <th>신고중량(KG)</th>\n",
       "      <th>과세가격원화금액</th>\n",
       "      <th>운송수단유형코드</th>\n",
       "      <th>반입보세구역부호</th>\n",
       "      <th>HS10단위부호</th>\n",
       "      <th>관세율</th>\n",
       "      <th>우범여부</th>\n",
       "      <th>핵심적발</th>\n",
       "      <th>신고일자_월</th>\n",
       "    </tr>\n",
       "  </thead>\n",
       "  <tbody>\n",
       "    <tr>\n",
       "      <th>count</th>\n",
       "      <td>8.935500e+04</td>\n",
       "      <td>89355.000000</td>\n",
       "      <td>89355.000000</td>\n",
       "      <td>89355.000000</td>\n",
       "      <td>89355.000000</td>\n",
       "      <td>89355.000000</td>\n",
       "      <td>89355.000000</td>\n",
       "      <td>89355.000000</td>\n",
       "      <td>8.935500e+04</td>\n",
       "      <td>89355.000000</td>\n",
       "      <td>8.935500e+04</td>\n",
       "      <td>8.935500e+04</td>\n",
       "      <td>89355.000000</td>\n",
       "      <td>89355.000000</td>\n",
       "      <td>89355.000000</td>\n",
       "      <td>89355.000000</td>\n",
       "    </tr>\n",
       "    <tr>\n",
       "      <th>mean</th>\n",
       "      <td>5.492568e+07</td>\n",
       "      <td>33.121493</td>\n",
       "      <td>1.874187</td>\n",
       "      <td>1.057523</td>\n",
       "      <td>25.580494</td>\n",
       "      <td>20.322903</td>\n",
       "      <td>15.644541</td>\n",
       "      <td>8524.613459</td>\n",
       "      <td>8.008072e+07</td>\n",
       "      <td>26.164065</td>\n",
       "      <td>3.114182e+06</td>\n",
       "      <td>5.781345e+09</td>\n",
       "      <td>8.441745</td>\n",
       "      <td>0.230093</td>\n",
       "      <td>0.348509</td>\n",
       "      <td>5.602596</td>\n",
       "    </tr>\n",
       "    <tr>\n",
       "      <th>std</th>\n",
       "      <td>2.590161e+07</td>\n",
       "      <td>18.198064</td>\n",
       "      <td>1.235338</td>\n",
       "      <td>0.342149</td>\n",
       "      <td>29.214542</td>\n",
       "      <td>2.721040</td>\n",
       "      <td>10.675386</td>\n",
       "      <td>12581.507315</td>\n",
       "      <td>5.825281e+09</td>\n",
       "      <td>15.514324</td>\n",
       "      <td>1.593484e+06</td>\n",
       "      <td>2.754415e+09</td>\n",
       "      <td>29.536271</td>\n",
       "      <td>0.420895</td>\n",
       "      <td>0.681092</td>\n",
       "      <td>3.120887</td>\n",
       "    </tr>\n",
       "    <tr>\n",
       "      <th>min</th>\n",
       "      <td>1.000149e+07</td>\n",
       "      <td>10.000000</td>\n",
       "      <td>0.000000</td>\n",
       "      <td>0.000000</td>\n",
       "      <td>11.000000</td>\n",
       "      <td>11.000000</td>\n",
       "      <td>0.000000</td>\n",
       "      <td>0.100000</td>\n",
       "      <td>0.000000e+00</td>\n",
       "      <td>10.000000</td>\n",
       "      <td>1.002014e+06</td>\n",
       "      <td>1.012990e+08</td>\n",
       "      <td>0.000000</td>\n",
       "      <td>0.000000</td>\n",
       "      <td>0.000000</td>\n",
       "      <td>1.000000</td>\n",
       "    </tr>\n",
       "    <tr>\n",
       "      <th>25%</th>\n",
       "      <td>3.252167e+07</td>\n",
       "      <td>20.000000</td>\n",
       "      <td>1.000000</td>\n",
       "      <td>1.000000</td>\n",
       "      <td>11.000000</td>\n",
       "      <td>21.000000</td>\n",
       "      <td>11.000000</td>\n",
       "      <td>1473.800000</td>\n",
       "      <td>5.248629e+04</td>\n",
       "      <td>10.000000</td>\n",
       "      <td>2.006099e+06</td>\n",
       "      <td>3.402110e+09</td>\n",
       "      <td>0.000000</td>\n",
       "      <td>0.000000</td>\n",
       "      <td>0.000000</td>\n",
       "      <td>3.000000</td>\n",
       "    </tr>\n",
       "    <tr>\n",
       "      <th>50%</th>\n",
       "      <td>5.490483e+07</td>\n",
       "      <td>40.000000</td>\n",
       "      <td>2.000000</td>\n",
       "      <td>1.000000</td>\n",
       "      <td>11.000000</td>\n",
       "      <td>21.000000</td>\n",
       "      <td>11.000000</td>\n",
       "      <td>5803.600000</td>\n",
       "      <td>3.929485e+05</td>\n",
       "      <td>40.000000</td>\n",
       "      <td>3.077098e+06</td>\n",
       "      <td>6.205200e+09</td>\n",
       "      <td>6.500000</td>\n",
       "      <td>0.000000</td>\n",
       "      <td>0.000000</td>\n",
       "      <td>6.000000</td>\n",
       "    </tr>\n",
       "    <tr>\n",
       "      <th>75%</th>\n",
       "      <td>7.737544e+07</td>\n",
       "      <td>40.000000</td>\n",
       "      <td>2.000000</td>\n",
       "      <td>1.000000</td>\n",
       "      <td>15.000000</td>\n",
       "      <td>21.000000</td>\n",
       "      <td>14.000000</td>\n",
       "      <td>9869.450000</td>\n",
       "      <td>2.600951e+06</td>\n",
       "      <td>40.000000</td>\n",
       "      <td>4.077003e+06</td>\n",
       "      <td>8.515110e+09</td>\n",
       "      <td>8.000000</td>\n",
       "      <td>0.000000</td>\n",
       "      <td>0.000000</td>\n",
       "      <td>8.000000</td>\n",
       "    </tr>\n",
       "    <tr>\n",
       "      <th>max</th>\n",
       "      <td>9.999869e+07</td>\n",
       "      <td>154.000000</td>\n",
       "      <td>6.000000</td>\n",
       "      <td>3.000000</td>\n",
       "      <td>96.000000</td>\n",
       "      <td>28.000000</td>\n",
       "      <td>43.000000</td>\n",
       "      <td>216803.100000</td>\n",
       "      <td>6.952264e+11</td>\n",
       "      <td>90.000000</td>\n",
       "      <td>1.540200e+07</td>\n",
       "      <td>9.706009e+09</td>\n",
       "      <td>800.300000</td>\n",
       "      <td>1.000000</td>\n",
       "      <td>2.000000</td>\n",
       "      <td>11.000000</td>\n",
       "    </tr>\n",
       "  </tbody>\n",
       "</table>\n",
       "</div>"
      ],
      "text/plain": [
       "               신고번호       통관지세관부호      수입통관계획코드      수입신고구분코드      수입거래구분코드  \\\n",
       "count  8.935500e+04  89355.000000  89355.000000  89355.000000  89355.000000   \n",
       "mean   5.492568e+07     33.121493      1.874187      1.057523     25.580494   \n",
       "std    2.590161e+07     18.198064      1.235338      0.342149     29.214542   \n",
       "min    1.000149e+07     10.000000      0.000000      0.000000     11.000000   \n",
       "25%    3.252167e+07     20.000000      1.000000      1.000000     11.000000   \n",
       "50%    5.490483e+07     40.000000      2.000000      1.000000     11.000000   \n",
       "75%    7.737544e+07     40.000000      2.000000      1.000000     15.000000   \n",
       "max    9.999869e+07    154.000000      6.000000      3.000000     96.000000   \n",
       "\n",
       "             수입종류코드        징수형태코드       신고중량(KG)      과세가격원화금액      운송수단유형코드  \\\n",
       "count  89355.000000  89355.000000   89355.000000  8.935500e+04  89355.000000   \n",
       "mean      20.322903     15.644541    8524.613459  8.008072e+07     26.164065   \n",
       "std        2.721040     10.675386   12581.507315  5.825281e+09     15.514324   \n",
       "min       11.000000      0.000000       0.100000  0.000000e+00     10.000000   \n",
       "25%       21.000000     11.000000    1473.800000  5.248629e+04     10.000000   \n",
       "50%       21.000000     11.000000    5803.600000  3.929485e+05     40.000000   \n",
       "75%       21.000000     14.000000    9869.450000  2.600951e+06     40.000000   \n",
       "max       28.000000     43.000000  216803.100000  6.952264e+11     90.000000   \n",
       "\n",
       "           반입보세구역부호      HS10단위부호           관세율          우범여부          핵심적발  \\\n",
       "count  8.935500e+04  8.935500e+04  89355.000000  89355.000000  89355.000000   \n",
       "mean   3.114182e+06  5.781345e+09      8.441745      0.230093      0.348509   \n",
       "std    1.593484e+06  2.754415e+09     29.536271      0.420895      0.681092   \n",
       "min    1.002014e+06  1.012990e+08      0.000000      0.000000      0.000000   \n",
       "25%    2.006099e+06  3.402110e+09      0.000000      0.000000      0.000000   \n",
       "50%    3.077098e+06  6.205200e+09      6.500000      0.000000      0.000000   \n",
       "75%    4.077003e+06  8.515110e+09      8.000000      0.000000      0.000000   \n",
       "max    1.540200e+07  9.706009e+09    800.300000      1.000000      2.000000   \n",
       "\n",
       "             신고일자_월  \n",
       "count  89355.000000  \n",
       "mean       5.602596  \n",
       "std        3.120887  \n",
       "min        1.000000  \n",
       "25%        3.000000  \n",
       "50%        6.000000  \n",
       "75%        8.000000  \n",
       "max       11.000000  "
      ]
     },
     "execution_count": 28,
     "metadata": {},
     "output_type": "execute_result"
    }
   ],
   "source": [
    "df.describe()"
   ]
  },
  {
   "cell_type": "markdown",
   "metadata": {},
   "source": [
    "신고중량(KG), 과세가격원화금액, 반입보세구역부호, HS10단위부호: feature scaling 필요    \n",
    "     \n",
    "트리 모델: feature scaling 필요 없음, 라벨 인코딩 가능"
   ]
  },
  {
   "cell_type": "code",
   "execution_count": null,
   "metadata": {},
   "outputs": [],
   "source": []
  }
 ],
 "metadata": {
  "kernelspec": {
   "display_name": "Python 3",
   "language": "python",
   "name": "python3"
  },
  "language_info": {
   "codemirror_mode": {
    "name": "ipython",
    "version": 3
   },
   "file_extension": ".py",
   "mimetype": "text/x-python",
   "name": "python",
   "nbconvert_exporter": "python",
   "pygments_lexer": "ipython3",
   "version": "3.8.5"
  }
 },
 "nbformat": 4,
 "nbformat_minor": 4
}
