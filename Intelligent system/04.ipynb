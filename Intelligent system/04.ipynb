{
 "cells": [
  {
   "cell_type": "markdown",
   "metadata": {},
   "source": [
    "# 문제1"
   ]
  },
  {
   "cell_type": "code",
   "execution_count": 7,
   "metadata": {},
   "outputs": [
    {
     "name": "stdout",
     "output_type": "stream",
     "text": [
      "{'김수진': {'cell': '010-8831-3149', 'email': '1127sujink@naver.com'}, '김한빈': {'cell': '010-1996-1022', 'email': '131exclusive@ch-131.com'}}\n"
     ]
    }
   ],
   "source": [
    "# 1 - 1\n",
    "contacts = {\"김수진\":{\n",
    "                    'cell': '010-8831-3149',\n",
    "                    'email' : '1127sujink@naver.com'},\n",
    "           \"김한빈\":{\n",
    "                   'cell': '010-1996-1022',\n",
    "                   'email' : '131exclusive@ch-131.com'} }\n",
    "print(contacts)"
   ]
  },
  {
   "cell_type": "code",
   "execution_count": 8,
   "metadata": {},
   "outputs": [
    {
     "name": "stdout",
     "output_type": "stream",
     "text": [
      "김수진\n",
      "김한빈\n"
     ]
    }
   ],
   "source": [
    "# 1 - 2 : 'contacts' Dict에 있는 모든 이름 출력\n",
    "for a in contacts:\n",
    "    print(a)"
   ]
  },
  {
   "cell_type": "code",
   "execution_count": 10,
   "metadata": {},
   "outputs": [
    {
     "name": "stdout",
     "output_type": "stream",
     "text": [
      "김수진's contact information\n",
      "  010-8831-3149\n",
      "  1127sujink@naver.com\n",
      "김한빈's contact information\n",
      "  010-1996-1022\n",
      "  131exclusive@ch-131.com\n"
     ]
    }
   ],
   "source": [
    "# 1 - 3\n",
    "for contact in contacts:\n",
    "    print(\"{}'s contact information\".format(contact))\n",
    "    print(\" \", contacts[contact]['cell'])\n",
    "    print(\" \", contacts[contact]['email'])"
   ]
  },
  {
   "cell_type": "markdown",
   "metadata": {},
   "source": [
    "# 문제2"
   ]
  },
  {
   "cell_type": "code",
   "execution_count": 28,
   "metadata": {},
   "outputs": [
    {
     "name": "stdout",
     "output_type": "stream",
     "text": [
      "['김수진', 'kim', 'sujin', 1, 2, 3, 4, 5]\n"
     ]
    }
   ],
   "source": [
    "# 2 - 1\n",
    "data = [\"김수진\", \"kim\",'sujin',1,2,3,4,5]\n",
    "print(data)"
   ]
  },
  {
   "cell_type": "code",
   "execution_count": 29,
   "metadata": {},
   "outputs": [
    {
     "data": {
      "text/plain": [
       "0"
      ]
     },
     "execution_count": 29,
     "metadata": {},
     "output_type": "execute_result"
    }
   ],
   "source": [
    "# 2 - 2\n",
    "data.index('김수진')"
   ]
  },
  {
   "cell_type": "code",
   "execution_count": 30,
   "metadata": {},
   "outputs": [
    {
     "name": "stdout",
     "output_type": "stream",
     "text": [
      "['김수진', 'kim', 'sujin', 1, 2, 3, 4, 5, 'tOny']\n"
     ]
    }
   ],
   "source": [
    "# 2 - 3 : list에 tOny 추가\n",
    "data.append(\"tOny\")\n",
    "print(data)"
   ]
  },
  {
   "cell_type": "code",
   "execution_count": 33,
   "metadata": {},
   "outputs": [
    {
     "name": "stdout",
     "output_type": "stream",
     "text": [
      "Tony\n"
     ]
    }
   ],
   "source": [
    "# 2 - 4 : 첫문자만 대문자로 출력\n",
    "print(data[8].capitalize())"
   ]
  },
  {
   "cell_type": "code",
   "execution_count": 34,
   "metadata": {},
   "outputs": [
    {
     "name": "stdout",
     "output_type": "stream",
     "text": [
      "TONY\n"
     ]
    }
   ],
   "source": [
    "# 2 - 5 : 대문자 출력\n",
    "print(data[8].upper())"
   ]
  },
  {
   "cell_type": "code",
   "execution_count": 35,
   "metadata": {},
   "outputs": [
    {
     "name": "stdout",
     "output_type": "stream",
     "text": [
      "tony\n"
     ]
    }
   ],
   "source": [
    "# 2 - 6 : 소문자 출력\n",
    "print(data[8].lower())"
   ]
  },
  {
   "cell_type": "markdown",
   "metadata": {},
   "source": [
    "# 문제3"
   ]
  },
  {
   "cell_type": "code",
   "execution_count": 54,
   "metadata": {},
   "outputs": [
    {
     "name": "stdout",
     "output_type": "stream",
     "text": [
      "학번을 입력하세요: 20192665\n",
      "홀수\n"
     ]
    }
   ],
   "source": [
    "# 학번을 입력했을때 짝수인지 홀수일지 출력해주는 프로그램\n",
    "def is_odd(number):\n",
    "    if number % 2 == 0:\n",
    "        return \"짝수\"\n",
    "    else:\n",
    "        return \"홀수\"\n",
    "num=int(input(\"학번을 입력하세요: \"))\n",
    "print(is_odd(num))"
   ]
  },
  {
   "cell_type": "markdown",
   "metadata": {},
   "source": [
    "# 문제4"
   ]
  },
  {
   "cell_type": "code",
   "execution_count": 55,
   "metadata": {},
   "outputs": [],
   "source": [
    "a = [3, 5, 1, 2, 4]\n",
    "b = (3, 5, 1, 2, 4)"
   ]
  },
  {
   "cell_type": "code",
   "execution_count": 56,
   "metadata": {},
   "outputs": [
    {
     "name": "stdout",
     "output_type": "stream",
     "text": [
      "[1, 2, 3, 4, 5]\n"
     ]
    }
   ],
   "source": [
    "# 4 - 1 : a를 오름차순 정렬하기\n",
    "a.sort()\n",
    "print(a)"
   ]
  },
  {
   "cell_type": "code",
   "execution_count": 58,
   "metadata": {},
   "outputs": [
    {
     "name": "stdout",
     "output_type": "stream",
     "text": [
      "튜플은 immutable해서 내용을 수정할 수 없기 때문에 오름차순 정렬을 시키면 오류가 발생한다. \n",
      "그래서 튜플은 sort()함수를 사용할 수 없다.\n"
     ]
    },
    {
     "ename": "AttributeError",
     "evalue": "'tuple' object has no attribute 'sort'",
     "output_type": "error",
     "traceback": [
      "\u001b[1;31m---------------------------------------------------------------------------\u001b[0m",
      "\u001b[1;31mAttributeError\u001b[0m                            Traceback (most recent call last)",
      "\u001b[1;32m<ipython-input-58-82cd25022f48>\u001b[0m in \u001b[0;36m<module>\u001b[1;34m\u001b[0m\n\u001b[0;32m      2\u001b[0m \u001b[0mprint\u001b[0m\u001b[1;33m(\u001b[0m\u001b[1;34m\"튜플은 immutable해서 내용을 수정할 수 없기 때문에 오름차순 정렬을 시키면 오류가 발생한다. \"\u001b[0m\u001b[1;33m)\u001b[0m\u001b[1;33m\u001b[0m\u001b[1;33m\u001b[0m\u001b[0m\n\u001b[0;32m      3\u001b[0m \u001b[0mprint\u001b[0m\u001b[1;33m(\u001b[0m\u001b[1;34m\"그래서 튜플은 sort()함수를 사용할 수 없다.\"\u001b[0m\u001b[1;33m)\u001b[0m\u001b[1;33m\u001b[0m\u001b[1;33m\u001b[0m\u001b[0m\n\u001b[1;32m----> 4\u001b[1;33m \u001b[0mb\u001b[0m\u001b[1;33m.\u001b[0m\u001b[0msort\u001b[0m\u001b[1;33m(\u001b[0m\u001b[1;33m)\u001b[0m \u001b[1;31m# --> 에러 발생\u001b[0m\u001b[1;33m\u001b[0m\u001b[1;33m\u001b[0m\u001b[0m\n\u001b[0m",
      "\u001b[1;31mAttributeError\u001b[0m: 'tuple' object has no attribute 'sort'"
     ]
    }
   ],
   "source": [
    "# 4 - 2 : b 오름차순 정렬하면 오류 발생. 그 이유는?\n",
    "print(\"튜플은 immutable해서 내용을 수정할 수 없기 때문에 오름차순 정렬을 시키면 오류가 발생한다. \")\n",
    "print(\"그래서 튜플은 sort()함수를 사용할 수 없다.\")\n",
    "b.sort() # --> 에러 발생"
   ]
  }
 ],
 "metadata": {
  "kernelspec": {
   "display_name": "Python 3",
   "language": "python",
   "name": "python3"
  },
  "language_info": {
   "codemirror_mode": {
    "name": "ipython",
    "version": 3
   },
   "file_extension": ".py",
   "mimetype": "text/x-python",
   "name": "python",
   "nbconvert_exporter": "python",
   "pygments_lexer": "ipython3",
   "version": "3.8.5"
  }
 },
 "nbformat": 4,
 "nbformat_minor": 4
}
