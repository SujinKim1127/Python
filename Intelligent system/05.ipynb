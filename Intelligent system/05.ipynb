{
 "cells": [
  {
   "cell_type": "markdown",
   "metadata": {},
   "source": [
    "# 문제1"
   ]
  },
  {
   "cell_type": "code",
   "execution_count": 23,
   "metadata": {},
   "outputs": [
    {
     "name": "stdout",
     "output_type": "stream",
     "text": [
      "1 2 3 4 5\n",
      "입력:  [1, 2, 3, 4, 5]\n",
      "출력:  ['Odd', 'Even', 'Odd', 'Even', 'Odd']\n"
     ]
    }
   ],
   "source": [
    "# 임의의 숫자 list로 입력받아서 출력 --> list comprehension 사용\n",
    "num=str(input())\n",
    "list=num.split()\n",
    "list = [int(i) for i in list]\n",
    "print(\"입력: \",list)\n",
    "def Odd_Even(n, lst=[]):\n",
    "    if (n%2==0):\n",
    "        lst.append(\"Even\")\n",
    "    else:\n",
    "        lst.append(\"Odd\")\n",
    "oe=[]\n",
    "for a in list:\n",
    "    Odd_Even(a, oe)\n",
    "\n",
    "print(\"출력: \", oe)"
   ]
  },
  {
   "cell_type": "markdown",
   "metadata": {},
   "source": [
    "# 문제2"
   ]
  },
  {
   "cell_type": "code",
   "execution_count": 6,
   "metadata": {},
   "outputs": [],
   "source": [
    "fruit = \"tomato\"\n",
    "greet = \"Hello Kim!\""
   ]
  },
  {
   "cell_type": "code",
   "execution_count": 4,
   "metadata": {},
   "outputs": [
    {
     "name": "stdout",
     "output_type": "stream",
     "text": [
      "t o m a t o \n"
     ]
    }
   ],
   "source": [
    "# 2 - 1\n",
    "for letter in fruit:\n",
    "    print(letter, end=\" \")\n",
    "print()"
   ]
  },
  {
   "cell_type": "code",
   "execution_count": 7,
   "metadata": {},
   "outputs": [
    {
     "name": "stdout",
     "output_type": "stream",
     "text": [
      "-1\n"
     ]
    }
   ],
   "source": [
    "# 2 - 2 Searching 하였을때 '-1' 값 나오는 예\n",
    "aa = fruit.find(\"z\")\n",
    "print(aa)"
   ]
  },
  {
   "cell_type": "code",
   "execution_count": 5,
   "metadata": {},
   "outputs": [
    {
     "name": "stdout",
     "output_type": "stream",
     "text": [
      "Hello Park!\n"
     ]
    }
   ],
   "source": [
    "# 2 - 3 내용 대체\n",
    "greet = greet.replace(\"Kim\", \"Park\")\n",
    "print(greet)"
   ]
  },
  {
   "cell_type": "markdown",
   "metadata": {},
   "source": [
    "# 문제3"
   ]
  },
  {
   "cell_type": "code",
   "execution_count": 8,
   "metadata": {},
   "outputs": [],
   "source": [
    "greet = \"   Good Morning!    \"\n",
    "text = \"Have a good weekend\""
   ]
  },
  {
   "cell_type": "code",
   "execution_count": 9,
   "metadata": {},
   "outputs": [
    {
     "name": "stdout",
     "output_type": "stream",
     "text": [
      "Good Morning!    \n"
     ]
    }
   ],
   "source": [
    "# 3 - 1 왼쪽 공백 제거\n",
    "print(greet.lstrip())"
   ]
  },
  {
   "cell_type": "code",
   "execution_count": 10,
   "metadata": {},
   "outputs": [
    {
     "name": "stdout",
     "output_type": "stream",
     "text": [
      "   Good Morning!\n"
     ]
    }
   ],
   "source": [
    "# 3 - 2 오른쪽 공백 모두 제거\n",
    "print(greet.rstrip())"
   ]
  },
  {
   "cell_type": "code",
   "execution_count": 11,
   "metadata": {},
   "outputs": [
    {
     "name": "stdout",
     "output_type": "stream",
     "text": [
      "Good Morning!\n"
     ]
    }
   ],
   "source": [
    "# 3 - 3 왼쪽 오른쪽 공백 모두 제거\n",
    "print(greet.strip())"
   ]
  },
  {
   "cell_type": "code",
   "execution_count": 12,
   "metadata": {},
   "outputs": [
    {
     "name": "stdout",
     "output_type": "stream",
     "text": [
      "True\n",
      "False\n"
     ]
    }
   ],
   "source": [
    "# 3 - 4 text 변수가 'Have' 로 시작하면 True, 그렇지 않으면 False (if문 사용X)\n",
    "print(text.startswith(\"Have\"))\n",
    "print(text.startswith(\"h\"))"
   ]
  },
  {
   "cell_type": "markdown",
   "metadata": {},
   "source": [
    "# 문제4"
   ]
  },
  {
   "cell_type": "code",
   "execution_count": null,
   "metadata": {},
   "outputs": [],
   "source": []
  },
  {
   "cell_type": "markdown",
   "metadata": {},
   "source": [
    "# 문제5"
   ]
  },
  {
   "cell_type": "code",
   "execution_count": null,
   "metadata": {},
   "outputs": [],
   "source": [
    "num=list(map(int,input().split()))\n",
    "print(num)"
   ]
  },
  {
   "cell_type": "code",
   "execution_count": null,
   "metadata": {},
   "outputs": [],
   "source": []
  }
 ],
 "metadata": {
  "kernelspec": {
   "display_name": "Python 3",
   "language": "python",
   "name": "python3"
  },
  "language_info": {
   "codemirror_mode": {
    "name": "ipython",
    "version": 3
   },
   "file_extension": ".py",
   "mimetype": "text/x-python",
   "name": "python",
   "nbconvert_exporter": "python",
   "pygments_lexer": "ipython3",
   "version": "3.8.5"
  }
 },
 "nbformat": 4,
 "nbformat_minor": 4
}
