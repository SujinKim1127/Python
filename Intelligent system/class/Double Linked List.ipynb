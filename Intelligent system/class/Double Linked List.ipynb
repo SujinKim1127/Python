{
 "cells": [
  {
   "cell_type": "markdown",
   "metadata": {},
   "source": [
    "# Double Linked List   \n",
    "### Node class"
   ]
  },
  {
   "cell_type": "code",
   "execution_count": 67,
   "metadata": {},
   "outputs": [],
   "source": [
    "class Node():\n",
    "    def __init__(self, data):\n",
    "        self.data = data\n",
    "        self.next = None\n",
    "        self.prev = None\n",
    "        \n",
    "    def getData(self):\n",
    "        return self.data\n",
    "    def setData(self, val):\n",
    "        self.data = val\n",
    "    def hasVale(self, val):\n",
    "        return self.data == val\n",
    "    \n",
    "    def getNext(self):\n",
    "        return self.next\n",
    "    def setNext(self, node):\n",
    "        if type(node) == Node:\n",
    "            self.next = node\n",
    "            return\n",
    "        elif node is None:\n",
    "            self.next = None\n",
    "        else:\n",
    "            print(\"setNext type error:{} and type is {}\".format(node,type(Node)))\n",
    "            \n",
    "    def getPrev(self):\n",
    "        return self.prev\n",
    "    def setPrev(self, node):\n",
    "        if type(node) == Node:\n",
    "            self.prev = node\n",
    "        else:\n",
    "            print(\"setPrev type error:{} and type is {}\".format(node,type(Node)))\n",
    "        \n",
    "    def __repr__(self):\n",
    "        return \"(data :\" +str(self.data) + \")\""
   ]
  },
  {
   "cell_type": "code",
   "execution_count": 68,
   "metadata": {},
   "outputs": [
    {
     "name": "stdout",
     "output_type": "stream",
     "text": [
      "(data :kim)\n"
     ]
    }
   ],
   "source": [
    "node1 = Node(\"park\")\n",
    "node2 = Node(\"kim\")\n",
    "node1.setNext(node2)\n",
    "print(node1.next)"
   ]
  },
  {
   "cell_type": "code",
   "execution_count": 69,
   "metadata": {},
   "outputs": [
    {
     "name": "stdout",
     "output_type": "stream",
     "text": [
      "(data :park)\n",
      "(data :kim)\n"
     ]
    }
   ],
   "source": [
    "import gc\n",
    "for obj in gc.get_objects():\n",
    "    if isinstance(obj, Node):\n",
    "        print(obj)"
   ]
  },
  {
   "cell_type": "code",
   "execution_count": 70,
   "metadata": {},
   "outputs": [
    {
     "name": "stdout",
     "output_type": "stream",
     "text": [
      "(data :15)\n",
      "(data :8.2)\n",
      "(data :Berlin)\n"
     ]
    }
   ],
   "source": [
    "n1 = Node(15)\n",
    "n2 = Node(8.2)\n",
    "n3 = Node(\"Berlin\")\n",
    "print(n1)\n",
    "print(n2)\n",
    "print(n3)"
   ]
  },
  {
   "cell_type": "code",
   "execution_count": 71,
   "metadata": {},
   "outputs": [
    {
     "name": "stdout",
     "output_type": "stream",
     "text": [
      "(data :8.2)\n",
      "(data :Berlin)\n",
      "None\n",
      "\n",
      "None\n",
      "(data :15)\n",
      "(data :8.2)\n"
     ]
    }
   ],
   "source": [
    "n1.setNext(n2)\n",
    "n2.setNext(n3)\n",
    "n3.setPrev(n2)\n",
    "n2.setPrev(n1)\n",
    "print(n1.getNext())\n",
    "print(n2.getNext())\n",
    "print(n3.getNext())\n",
    "print()\n",
    "print(n1.getPrev())\n",
    "print(n2.getPrev())\n",
    "print(n3.getPrev())"
   ]
  },
  {
   "cell_type": "markdown",
   "metadata": {},
   "source": [
    "### DoubleLinkedList Class"
   ]
  },
  {
   "cell_type": "code",
   "execution_count": 72,
   "metadata": {},
   "outputs": [],
   "source": [
    "class DoubleLinkedList:\n",
    "    def __init__(self):\n",
    "        self.head = None\n",
    "        self.tail = None\n",
    "        self.size = 0\n",
    "    def getSize(self):\n",
    "        return self.size\n",
    "    def addNode(self, data):\n",
    "        \"add an item at the end of the list\"\n",
    "        newNode = Node(data)\n",
    "        if self.head is None:\n",
    "            self.head = newNode\n",
    "            newNode.prev = None\n",
    "            newNode.next = None\n",
    "            self.tail = newNode\n",
    "        else:\n",
    "            self.tail.setNext(newNode)\n",
    "            newNode.setPrev(self.tail)\n",
    "            self.tail = newNode\n",
    "        self.size += 1\n",
    "    def findNode(self, data):\n",
    "        curr = self.head\n",
    "        while curr:\n",
    "            if curr.getData() == data:\n",
    "                return True\n",
    "            curr = curr.getNext()\n",
    "        return False\n",
    "    \n",
    "    def removeNode(self, data):\n",
    "        if self.findNode(data) == False:\n",
    "            print(\"Data \" + str(data)+\" is not in the list, remove op is not carried out\")\n",
    "            return\n",
    "        curr = self.head\n",
    "        self.size = self.size - 1\n",
    "        while curr is not None:\n",
    "            prev = curr.getPrev()\n",
    "            next = curr.getNext()\n",
    "            if curr.getData() == data:\n",
    "                if prev is not None:\n",
    "                    prev.setNext(next)\n",
    "                    if next is not None:\n",
    "                        next.setPrev(prev)\n",
    "                    else:\n",
    "                        self.tail = prev\n",
    "                    print(\"Data \"+str(data)+ \" is removed\")\n",
    "                else:\n",
    "                    self.head = next\n",
    "                    if next is not None:\n",
    "                        next.setPrev(None)\n",
    "                    else:\n",
    "                        self.tail = prev\n",
    "                    print(\"Data \"+str(data) + \" is removed\")\n",
    "                return\n",
    "            curr = next\n",
    "                        \n",
    "    def printNodes(self):\n",
    "        if self.size == 0:\n",
    "            print(\"The list is empty\")\n",
    "            return\n",
    "        curr = self.head\n",
    "        tail = self.tail\n",
    "        print(\"head = {} and tail = {}. size = {}\".format(self.head, self.tail, self.size))\n",
    "        pos = 1\n",
    "        while curr:\n",
    "            print(\"position :\"+str(pos) + \" \" + str(curr.data))\n",
    "            pos += 1\n",
    "            curr = curr.getNext()\n",
    "    def printNodesReverse(self):\n",
    "        if self.size == 0:\n",
    "            print(\"The list is empty\")\n",
    "            return\n",
    "        curr = self.tail\n",
    "        pos = self.size\n",
    "\n",
    "        while curr:\n",
    "            print(\"position :\"+str(pos)+\" \"+str(curr.data))\n",
    "            pos = pos - 1\n",
    "            curr = curr.getPrev()"
   ]
  },
  {
   "cell_type": "code",
   "execution_count": 73,
   "metadata": {},
   "outputs": [],
   "source": [
    "myDLL = DoubleLinkedList()"
   ]
  },
  {
   "cell_type": "code",
   "execution_count": 74,
   "metadata": {},
   "outputs": [
    {
     "name": "stdout",
     "output_type": "stream",
     "text": [
      "head of myDLL:None\n",
      "The list is empty\n"
     ]
    }
   ],
   "source": [
    "print(\"head of myDLL:{}\".format(myDLL.head))\n",
    "myDLL.printNodes()"
   ]
  },
  {
   "cell_type": "code",
   "execution_count": 75,
   "metadata": {},
   "outputs": [
    {
     "name": "stdout",
     "output_type": "stream",
     "text": [
      "head = (data :tom) and tail = (data :tom). size = 1\n",
      "position :1 tom\n"
     ]
    }
   ],
   "source": [
    "myDLL.addNode(\"tom\")\n",
    "myDLL.printNodes()"
   ]
  },
  {
   "cell_type": "code",
   "execution_count": 76,
   "metadata": {},
   "outputs": [
    {
     "name": "stdout",
     "output_type": "stream",
     "text": [
      "(data :tom)\n",
      "(data :tom)\n"
     ]
    }
   ],
   "source": [
    "print(myDLL.head)\n",
    "print(myDLL.tail)"
   ]
  },
  {
   "cell_type": "code",
   "execution_count": 77,
   "metadata": {},
   "outputs": [
    {
     "name": "stdout",
     "output_type": "stream",
     "text": [
      "(data :tom)\n",
      "None\n",
      "None\n"
     ]
    }
   ],
   "source": [
    "print(myDLL.head)\n",
    "print(myDLL.head.getPrev())\n",
    "print(myDLL.head.getNext())"
   ]
  },
  {
   "cell_type": "code",
   "execution_count": 78,
   "metadata": {},
   "outputs": [
    {
     "name": "stdout",
     "output_type": "stream",
     "text": [
      "head = (data :tom) and tail = (data :jane). size = 2\n",
      "position :1 tom\n",
      "position :2 jane\n",
      "\n",
      "position :2 jane\n",
      "position :1 tom\n"
     ]
    }
   ],
   "source": [
    "myDLL.addNode(\"jane\")\n",
    "myDLL.printNodes()\n",
    "print()\n",
    "myDLL.printNodesReverse()"
   ]
  },
  {
   "cell_type": "code",
   "execution_count": 79,
   "metadata": {},
   "outputs": [
    {
     "name": "stdout",
     "output_type": "stream",
     "text": [
      "(data :tom)\n",
      "(data :jane)\n"
     ]
    }
   ],
   "source": [
    "print(myDLL.head)\n",
    "print(myDLL.tail)"
   ]
  },
  {
   "cell_type": "code",
   "execution_count": 80,
   "metadata": {},
   "outputs": [
    {
     "name": "stdout",
     "output_type": "stream",
     "text": [
      "(data :tom)\n",
      "None\n",
      "(data :jane)\n"
     ]
    }
   ],
   "source": [
    "print(myDLL.head)\n",
    "print(myDLL.head.getPrev())\n",
    "print(myDLL.head.getNext())"
   ]
  },
  {
   "cell_type": "code",
   "execution_count": 81,
   "metadata": {},
   "outputs": [
    {
     "name": "stdout",
     "output_type": "stream",
     "text": [
      "(data :jane)\n",
      "None\n",
      "(data :tom)\n"
     ]
    }
   ],
   "source": [
    "print(myDLL.tail)\n",
    "print(myDLL.tail.getNext())\n",
    "print(myDLL.tail.getPrev())"
   ]
  },
  {
   "cell_type": "code",
   "execution_count": 82,
   "metadata": {},
   "outputs": [
    {
     "name": "stdout",
     "output_type": "stream",
     "text": [
      "head = (data :tom) and tail = (data :lee). size = 3\n",
      "position :1 tom\n",
      "position :2 jane\n",
      "position :3 lee\n"
     ]
    }
   ],
   "source": [
    "myDLL.addNode(\"lee\")\n",
    "myDLL.printNodes()"
   ]
  },
  {
   "cell_type": "code",
   "execution_count": 83,
   "metadata": {},
   "outputs": [
    {
     "data": {
      "text/plain": [
       "True"
      ]
     },
     "execution_count": 83,
     "metadata": {},
     "output_type": "execute_result"
    }
   ],
   "source": [
    "myDLL.findNode(\"lee\")"
   ]
  },
  {
   "cell_type": "code",
   "execution_count": 84,
   "metadata": {},
   "outputs": [
    {
     "data": {
      "text/plain": [
       "False"
      ]
     },
     "execution_count": 84,
     "metadata": {},
     "output_type": "execute_result"
    }
   ],
   "source": [
    "myDLL.findNode(\"kim\")"
   ]
  },
  {
   "cell_type": "code",
   "execution_count": 85,
   "metadata": {},
   "outputs": [
    {
     "name": "stdout",
     "output_type": "stream",
     "text": [
      "head = (data :tom) and tail = (data :lee). size = 3\n",
      "position :1 tom\n",
      "position :2 jane\n",
      "position :3 lee\n",
      "Data kim is not in the list, remove op is not carried out\n",
      "head = (data :tom) and tail = (data :lee). size = 3\n",
      "position :1 tom\n",
      "position :2 jane\n",
      "position :3 lee\n"
     ]
    }
   ],
   "source": [
    "myDLL.printNodes()\n",
    "myDLL.removeNode(\"kim\")\n",
    "myDLL.printNodes()"
   ]
  },
  {
   "cell_type": "code",
   "execution_count": 86,
   "metadata": {},
   "outputs": [
    {
     "name": "stdout",
     "output_type": "stream",
     "text": [
      "position :3 lee\n",
      "position :2 jane\n",
      "position :1 tom\n"
     ]
    }
   ],
   "source": [
    "myDLL.printNodesReverse()"
   ]
  },
  {
   "cell_type": "code",
   "execution_count": 87,
   "metadata": {},
   "outputs": [
    {
     "name": "stdout",
     "output_type": "stream",
     "text": [
      "head = (data :tom) and tail = (data :lee). size = 3\n",
      "position :1 tom\n",
      "position :2 jane\n",
      "position :3 lee\n",
      "Data lee is removed\n",
      "head = (data :tom) and tail = (data :jane). size = 2\n",
      "position :1 tom\n",
      "position :2 jane\n",
      "\n",
      "position :2 jane\n",
      "position :1 tom\n"
     ]
    }
   ],
   "source": [
    "myDLL.printNodes()\n",
    "myDLL.removeNode(\"lee\")\n",
    "myDLL.printNodes()\n",
    "print()\n",
    "myDLL.printNodesReverse()"
   ]
  },
  {
   "cell_type": "code",
   "execution_count": 88,
   "metadata": {},
   "outputs": [
    {
     "name": "stdout",
     "output_type": "stream",
     "text": [
      "head = (data :tom) and tail = (data :jane). size = 2\n",
      "position :1 tom\n",
      "position :2 jane\n",
      "setPrev type error:None and type is <class 'type'>\n",
      "Data tom is removed\n",
      "head = (data :jane) and tail = (data :jane). size = 1\n",
      "position :1 jane\n",
      "\n",
      "position :1 jane\n",
      "position :0 tom\n"
     ]
    }
   ],
   "source": [
    "myDLL.printNodes()\n",
    "myDLL.removeNode(\"tom\")\n",
    "myDLL.printNodes()\n",
    "print()\n",
    "myDLL.printNodesReverse()"
   ]
  },
  {
   "cell_type": "code",
   "execution_count": 89,
   "metadata": {},
   "outputs": [
    {
     "name": "stdout",
     "output_type": "stream",
     "text": [
      "head = (data :jane) and tail = (data :jane). size = 1\n",
      "position :1 jane\n",
      "Data jane is removed\n",
      "The list is empty\n",
      "\n",
      "The list is empty\n"
     ]
    }
   ],
   "source": [
    "myDLL.printNodes()\n",
    "myDLL.removeNode(\"jane\")\n",
    "myDLL.printNodes()\n",
    "print()\n",
    "myDLL.printNodesReverse()"
   ]
  }
 ],
 "metadata": {
  "kernelspec": {
   "display_name": "Python 3",
   "language": "python",
   "name": "python3"
  },
  "language_info": {
   "codemirror_mode": {
    "name": "ipython",
    "version": 3
   },
   "file_extension": ".py",
   "mimetype": "text/x-python",
   "name": "python",
   "nbconvert_exporter": "python",
   "pygments_lexer": "ipython3",
   "version": "3.8.5"
  }
 },
 "nbformat": 4,
 "nbformat_minor": 4
}
