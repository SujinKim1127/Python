{
 "cells": [
  {
   "cell_type": "markdown",
   "metadata": {},
   "source": [
    "# LinkedList   \n",
    "### Node Class"
   ]
  },
  {
   "cell_type": "code",
   "execution_count": 1,
   "metadata": {},
   "outputs": [],
   "source": [
    "class Node():\n",
    "    def __init__(self, data, nextNode = None):\n",
    "        self.data = data\n",
    "        if nextNode == None or type(nextNode) == Node :\n",
    "            self.nextNode = nextNode\n",
    "        else:\n",
    "            print(\"__init__ node type error:\",type(Node))\n",
    "    def getData(self):\n",
    "        return self.data\n",
    "    def setData(self, val):\n",
    "        self.data = val\n",
    "    def getNextNode(self):\n",
    "        return self.nextNode\n",
    "    def setNextNode(self, node):\n",
    "        if type(node) == Node:\n",
    "            self.nextNode = node\n",
    "        else:\n",
    "            print(\"setNextNode node type error:\", type(Node))\n",
    "    def __repr__(self):\n",
    "        return \"(data :\" +str(self.data) + \")\""
   ]
  },
  {
   "cell_type": "code",
   "execution_count": 2,
   "metadata": {},
   "outputs": [
    {
     "name": "stdout",
     "output_type": "stream",
     "text": [
      "n1: (data :park), n2: (data :kim)\n",
      "(data :kim)\n",
      "None\n"
     ]
    }
   ],
   "source": [
    "n1 = Node(\"park\")\n",
    "n2 = Node(\"kim\")\n",
    "n1.setNextNode(n2)\n",
    "print(\"n1: {}, n2: {}\".format(n1, n2))\n",
    "print(n1.getNextNode())\n",
    "print(n2.getNextNode())"
   ]
  },
  {
   "cell_type": "markdown",
   "metadata": {},
   "source": [
    "### Single Linked List"
   ]
  },
  {
   "cell_type": "code",
   "execution_count": 3,
   "metadata": {},
   "outputs": [],
   "source": [
    "n1 = Node(\"data3\")\n",
    "n2 = Node(\"data10\")\n",
    "n3 = Node(\"data2\")\n",
    "n4 = Node(\"data1\")\n",
    "\n",
    "n1.setNextNode(n2)\n",
    "n2.setNextNode(n3)\n",
    "n3.setNextNode(n4)"
   ]
  },
  {
   "cell_type": "code",
   "execution_count": 4,
   "metadata": {},
   "outputs": [],
   "source": [
    "class Head():\n",
    "    def __init__(self, node):\n",
    "        self.head = node"
   ]
  },
  {
   "cell_type": "code",
   "execution_count": 5,
   "metadata": {},
   "outputs": [],
   "source": [
    "h1 = Head(n1)"
   ]
  },
  {
   "cell_type": "code",
   "execution_count": 6,
   "metadata": {},
   "outputs": [
    {
     "name": "stdout",
     "output_type": "stream",
     "text": [
      "(data :data3)\n",
      "(data :data10)\n",
      "(data :data2)\n",
      "(data :data1)\n"
     ]
    }
   ],
   "source": [
    "curr = h1.head\n",
    "while curr:\n",
    "    print(curr)\n",
    "    curr = curr.getNextNode()"
   ]
  },
  {
   "cell_type": "markdown",
   "metadata": {},
   "source": [
    "### Linked List Class"
   ]
  },
  {
   "cell_type": "code",
   "execution_count": 22,
   "metadata": {},
   "outputs": [],
   "source": [
    "class LinkedList():\n",
    "    def __init__(self, head = None):\n",
    "        self.head = head\n",
    "        self.size = 0\n",
    "        \n",
    "    def getSize(self):\n",
    "        return self.size\n",
    "    \n",
    "    def addNode(self, data):\n",
    "        newNode = Node(data, self.head)\n",
    "        self.head = newNode\n",
    "        self.size += 1\n",
    "        return True\n",
    "    \n",
    "    def pop(self):\n",
    "        data = self.head.getData()\n",
    "        self.head = self.head.getNextNode()\n",
    "        return \"data has been popping : \" + str(data)\n",
    "    \n",
    "    def findNode(self, value):\n",
    "        curr = self.head\n",
    "        while curr:\n",
    "            if curr.getData() == value:\n",
    "                return True\n",
    "            curr = curr.getNextNode()\n",
    "        return False\n",
    "    \n",
    "    def removeNode(self, value):\n",
    "        prev = None\n",
    "        curr = self.head\n",
    "        while curr:\n",
    "            if curr.getData() == value:\n",
    "                if prev:\n",
    "                    prev.setNextNode(curr.getNextNode())\n",
    "                else:\n",
    "                    self.head = curr.getNextNode()\n",
    "                return True\n",
    "            prev = curr\n",
    "            curr = curr.getNextNode()\n",
    "            \n",
    "        return False\n",
    "    \n",
    "    def printNodes(self):\n",
    "        curr = self.head\n",
    "        pos = 1\n",
    "        while curr:\n",
    "            print(\"position :\" + str(pos) + \" \" + str(curr.data))\n",
    "            pos += 1\n",
    "            curr = curr.getNextNode()"
   ]
  },
  {
   "cell_type": "code",
   "execution_count": 14,
   "metadata": {},
   "outputs": [],
   "source": [
    "myLL = LinkedList()"
   ]
  },
  {
   "cell_type": "code",
   "execution_count": 15,
   "metadata": {},
   "outputs": [
    {
     "data": {
      "text/plain": [
       "['__class__',\n",
       " '__delattr__',\n",
       " '__dict__',\n",
       " '__dir__',\n",
       " '__doc__',\n",
       " '__eq__',\n",
       " '__format__',\n",
       " '__ge__',\n",
       " '__getattribute__',\n",
       " '__gt__',\n",
       " '__hash__',\n",
       " '__init__',\n",
       " '__init_subclass__',\n",
       " '__le__',\n",
       " '__lt__',\n",
       " '__module__',\n",
       " '__ne__',\n",
       " '__new__',\n",
       " '__reduce__',\n",
       " '__reduce_ex__',\n",
       " '__repr__',\n",
       " '__setattr__',\n",
       " '__sizeof__',\n",
       " '__str__',\n",
       " '__subclasshook__',\n",
       " '__weakref__',\n",
       " 'addNode',\n",
       " 'getSize',\n",
       " 'head',\n",
       " 'pop',\n",
       " 'printNodes',\n",
       " 'size']"
      ]
     },
     "execution_count": 15,
     "metadata": {},
     "output_type": "execute_result"
    }
   ],
   "source": [
    "dir(myLL)"
   ]
  },
  {
   "cell_type": "code",
   "execution_count": 16,
   "metadata": {},
   "outputs": [
    {
     "name": "stdout",
     "output_type": "stream",
     "text": [
      "position :1 data3\n",
      "position :2 data10\n",
      "position :3 data2\n",
      "position :4 data1\n"
     ]
    }
   ],
   "source": [
    "myLL.addNode(\"data1\")\n",
    "myLL.addNode(\"data2\")\n",
    "myLL.addNode(\"data10\")\n",
    "myLL.addNode(\"data3\")\n",
    "myLL.printNodes()"
   ]
  },
  {
   "cell_type": "code",
   "execution_count": 17,
   "metadata": {},
   "outputs": [
    {
     "name": "stdout",
     "output_type": "stream",
     "text": [
      "before pop operation\n",
      "position :1 data3\n",
      "position :2 data10\n",
      "position :3 data2\n",
      "position :4 data1\n",
      "data has been popping : data3\n",
      "after pop operation\n",
      "position :1 data10\n",
      "position :2 data2\n",
      "position :3 data1\n"
     ]
    }
   ],
   "source": [
    "print(\"before pop operation\")\n",
    "myLL.printNodes()\n",
    "a = myLL.pop()\n",
    "print(a)\n",
    "print(\"after pop operation\")\n",
    "myLL.printNodes()"
   ]
  },
  {
   "cell_type": "code",
   "execution_count": 19,
   "metadata": {},
   "outputs": [
    {
     "name": "stdout",
     "output_type": "stream",
     "text": [
      "position :1 kim\n",
      "position :2 choi\n",
      "position :3 park\n"
     ]
    }
   ],
   "source": [
    "myLinkedList = LinkedList()\n",
    "myLinkedList.addNode(\"park\")\n",
    "myLinkedList.addNode(\"choi\")\n",
    "myLinkedList.addNode(\"kim\")\n",
    "myLinkedList.printNodes()"
   ]
  },
  {
   "cell_type": "code",
   "execution_count": 20,
   "metadata": {},
   "outputs": [
    {
     "data": {
      "text/plain": [
       "True"
      ]
     },
     "execution_count": 20,
     "metadata": {},
     "output_type": "execute_result"
    }
   ],
   "source": [
    "myLinkedList.findNode(\"choi\")"
   ]
  },
  {
   "cell_type": "code",
   "execution_count": 21,
   "metadata": {},
   "outputs": [
    {
     "data": {
      "text/plain": [
       "False"
      ]
     },
     "execution_count": 21,
     "metadata": {},
     "output_type": "execute_result"
    }
   ],
   "source": [
    "myLinkedList.findNode(\"lee\")"
   ]
  },
  {
   "cell_type": "code",
   "execution_count": 23,
   "metadata": {},
   "outputs": [
    {
     "name": "stdout",
     "output_type": "stream",
     "text": [
      "position :1 kim\n",
      "position :2 choi\n",
      "position :3 park\n"
     ]
    }
   ],
   "source": [
    "myLinkedList = LinkedList()\n",
    "myLinkedList.addNode(\"park\")\n",
    "myLinkedList.addNode(\"choi\")\n",
    "myLinkedList.addNode(\"kim\")\n",
    "myLinkedList.printNodes()"
   ]
  },
  {
   "cell_type": "code",
   "execution_count": 24,
   "metadata": {},
   "outputs": [
    {
     "name": "stdout",
     "output_type": "stream",
     "text": [
      "position :1 kim\n",
      "position :2 park\n"
     ]
    }
   ],
   "source": [
    "myLinkedList.removeNode(\"choi\")\n",
    "myLinkedList.printNodes()"
   ]
  },
  {
   "cell_type": "code",
   "execution_count": 25,
   "metadata": {},
   "outputs": [
    {
     "data": {
      "text/plain": [
       "False"
      ]
     },
     "execution_count": 25,
     "metadata": {},
     "output_type": "execute_result"
    }
   ],
   "source": [
    "myLinkedList.removeNode(\"choi\")"
   ]
  }
 ],
 "metadata": {
  "kernelspec": {
   "display_name": "Python 3",
   "language": "python",
   "name": "python3"
  },
  "language_info": {
   "codemirror_mode": {
    "name": "ipython",
    "version": 3
   },
   "file_extension": ".py",
   "mimetype": "text/x-python",
   "name": "python",
   "nbconvert_exporter": "python",
   "pygments_lexer": "ipython3",
   "version": "3.8.5"
  }
 },
 "nbformat": 4,
 "nbformat_minor": 4
}
