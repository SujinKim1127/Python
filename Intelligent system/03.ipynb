{
 "cells": [
  {
   "cell_type": "markdown",
   "metadata": {},
   "source": [
    "## 문제1"
   ]
  },
  {
   "cell_type": "code",
   "execution_count": 5,
   "metadata": {},
   "outputs": [
    {
     "name": "stdout",
     "output_type": "stream",
     "text": [
      "<class 'int'>\n",
      "<class 'float'>\n",
      "<class 'bool'>\n",
      "<class 'str'>\n",
      "<class 'list'>\n"
     ]
    }
   ],
   "source": [
    "a=10\n",
    "b=5.12\n",
    "c=True\n",
    "d=\"Sujin\"\n",
    "e=[1,2,3]\n",
    "print(type(a))\n",
    "print(type(b))\n",
    "print(type(c))\n",
    "print(type(d))\n",
    "print(type(e))"
   ]
  },
  {
   "cell_type": "markdown",
   "metadata": {},
   "source": [
    "## 문제2"
   ]
  },
  {
   "cell_type": "code",
   "execution_count": 31,
   "metadata": {},
   "outputs": [
    {
     "name": "stdout",
     "output_type": "stream",
     "text": [
      "[['학번', 20192665], ['이름', '김수진'], ['학과', '컴퓨터학과']]\n",
      "3\n",
      "컴퓨터학과\n",
      "['학과', '컴퓨터학과']\n",
      "학번 : 20192665\n",
      "이름 : 김수진\n",
      "학과 : 컴퓨터학과\n"
     ]
    }
   ],
   "source": [
    "info = [['학번',20192665],['이름','김수진'],['학과', '컴퓨터학과']]\n",
    "#2-1\n",
    "print(info)  \n",
    "#2-2\n",
    "print(len(info))  \n",
    "#2-3\n",
    "print(info[2][1])\n",
    "#2-4\n",
    "print(info[2])\n",
    "#2-5\n",
    "for i in range(0,3):\n",
    "    print(info[i][0]+ \" : \"+str(info[i][1]))\n",
    "        \n"
   ]
  },
  {
   "cell_type": "markdown",
   "metadata": {},
   "source": [
    "## 문제3"
   ]
  },
  {
   "cell_type": "code",
   "execution_count": 32,
   "metadata": {},
   "outputs": [
    {
     "name": "stdout",
     "output_type": "stream",
     "text": [
      "I am 24 years old\n",
      "I am 24 years old\n"
     ]
    }
   ],
   "source": [
    "number = \"24\"\n",
    "print(\"I am \" + number + \" years old\")\n",
    "# 또는\n",
    "number = 24\n",
    "print(\"I am \" + str(number) + \" years old\")"
   ]
  },
  {
   "cell_type": "code",
   "execution_count": null,
   "metadata": {},
   "outputs": [],
   "source": []
  }
 ],
 "metadata": {
  "kernelspec": {
   "display_name": "Python 3",
   "language": "python",
   "name": "python3"
  },
  "language_info": {
   "codemirror_mode": {
    "name": "ipython",
    "version": 3
   },
   "file_extension": ".py",
   "mimetype": "text/x-python",
   "name": "python",
   "nbconvert_exporter": "python",
   "pygments_lexer": "ipython3",
   "version": "3.8.5"
  }
 },
 "nbformat": 4,
 "nbformat_minor": 4
}
